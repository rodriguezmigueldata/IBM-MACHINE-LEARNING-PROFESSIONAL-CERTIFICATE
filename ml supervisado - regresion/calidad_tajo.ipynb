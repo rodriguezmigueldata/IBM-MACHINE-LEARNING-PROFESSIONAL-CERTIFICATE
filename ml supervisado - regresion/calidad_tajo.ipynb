{
 "cells": [
  {
   "cell_type": "markdown",
   "id": "79714094",
   "metadata": {},
   "source": [
    "## **CALIDAD DE LAS AGUAS DEL RÍO TAJO ENTRE MADRID Y TOLEDO**"
   ]
  },
  {
   "cell_type": "markdown",
   "id": "a0963ac1",
   "metadata": {},
   "source": [
    "**1. INTRODUCCION**\n",
    "\n",
    "De acuerdo con la DMA, el estado químico, es una expresión del grado de cumplimiento de las normas de calidad ambiental establecidas reglamentariamente para los contaminantes presentes en una masa de agua superficial.\n",
    "\n",
    "Así, el estado químico es evaluado en base a las Normas de Calidad Ambiental (NCA) aplicables a las concentraciones de sustancias prioritarias en las aguas superficiales, sedimentos y biota, clasificándose como “bueno” o como “no se alcanza el buen estado químico”.\n",
    "\n",
    "El Real Decreto 60/2011, de 21 de enero, sobre las normas de calidad ambiental en el ámbito de la política de aguas, transpone todos los aspectos contenidos en la Directiva 2008/105/CE; incorpora los requisitos técnicos sobre análisis químicos establecidos en la Directiva 2009/90/CE; aprovecha para adaptar parte de la legislación española que transpone la Directiva 76/464/CEE y directivas derivadas; y actualiza la legislación española que recoge las normas de calidad ambiental de las sustancias preferentes (RD 995/2000, que deroga).\n",
    "\n",
    "El objetivo del análisis es utilizar logaritmos de regresión con el fin de conocer las relaciones entre las concentraciones de varios indicadores químicos en cuatro estaciones de control del estado químico en el río Tajo: Madrid y Aranjuez. Estas estaciones miden la contaminación del río Tajo en dos puntos críticos por ser los mayores núcleos de población e industria de la cuenca.\n",
    "\n",
    "Se utilizarán datos de la Confederación Hidrográfica del Tajo de los años 2018 y 2019, obtenidos a partir de su página web (http://www.chtajo.es/LaCuenca/CalidadAgua/Resultados_Informes/Paginas/RISupFisicoQu%C3%ADmico.aspx)"
   ]
  },
  {
   "cell_type": "markdown",
   "id": "7aeee793",
   "metadata": {},
   "source": [
    "**2. LIBRERIAS**"
   ]
  },
  {
   "cell_type": "code",
   "execution_count": 1,
   "id": "09f13101",
   "metadata": {},
   "outputs": [],
   "source": [
    "import pandas as pd\n",
    "import numpy as np\n",
    "import seaborn as sns\n",
    "import matplotlib.pyplot as plt\n",
    "from sklearn.preprocessing import MinMaxScaler\n",
    "from sklearn.metrics import mean_squared_error, r2_score\n",
    "from sklearn.preprocessing import StandardScaler, PolynomialFeatures\n",
    "from sklearn.model_selection import KFold, cross_val_predict\n",
    "from sklearn.linear_model import LinearRegression, Lasso, Ridge, RidgeCV, LassoCV, ElasticNetCV \n",
    "from sklearn.pipeline import Pipeline\n",
    "\n",
    "import warnings\n",
    "warnings.filterwarnings('ignore', module='sklearn')"
   ]
  },
  {
   "cell_type": "markdown",
   "id": "1284e87e",
   "metadata": {},
   "source": [
    "**3. ANÁLISIS EXPLORATORIO DE LOS DATOS**\n",
    "\n"
   ]
  },
  {
   "cell_type": "code",
   "execution_count": 2,
   "id": "c6778067",
   "metadata": {},
   "outputs": [],
   "source": [
    "archivo = 'C:/Users/NITROPC/Desktop/DATA SCIENCE/CERTIFICACION MACHINE LEARNING/02 - ML SUPERVISADO - REGRESION/6 - PROYECTO/CEMAS_FQ.xlsx'"
   ]
  },
  {
   "cell_type": "code",
   "execution_count": 3,
   "id": "0fc4f5be",
   "metadata": {},
   "outputs": [],
   "source": [
    "data = pd.read_excel(archivo, sheet_name ='Hoja1')"
   ]
  },
  {
   "cell_type": "code",
   "execution_count": 4,
   "id": "d6f09327",
   "metadata": {},
   "outputs": [
    {
     "data": {
      "text/html": [
       "<div>\n",
       "<style scoped>\n",
       "    .dataframe tbody tr th:only-of-type {\n",
       "        vertical-align: middle;\n",
       "    }\n",
       "\n",
       "    .dataframe tbody tr th {\n",
       "        vertical-align: top;\n",
       "    }\n",
       "\n",
       "    .dataframe thead th {\n",
       "        text-align: right;\n",
       "    }\n",
       "</style>\n",
       "<table border=\"1\" class=\"dataframe\">\n",
       "  <thead>\n",
       "    <tr style=\"text-align: right;\">\n",
       "      <th></th>\n",
       "      <th>Estación</th>\n",
       "      <th>Código Interno</th>\n",
       "      <th>CCAA</th>\n",
       "      <th>Provincia</th>\n",
       "      <th>Municipio</th>\n",
       "      <th>Cauce</th>\n",
       "      <th>UTMX</th>\n",
       "      <th>UTMY</th>\n",
       "      <th>Fecha de toma</th>\n",
       "      <th>Amonio_mg NH4/l</th>\n",
       "      <th>Cianuros_µg CN/l</th>\n",
       "      <th>DBO5_mg O2/l</th>\n",
       "      <th>DQO (Cr2O7)_mg O2/l</th>\n",
       "      <th>Fluoruros_mg F/l</th>\n",
       "      <th>Fosfatos_mg PO4/l</th>\n",
       "      <th>Nitratos_mg NO3/l</th>\n",
       "      <th>Nitritos_mg NO2/l</th>\n",
       "      <th>Nitrógeno total_mgN/l</th>\n",
       "      <th>Sólidos en suspensión_mg/l</th>\n",
       "      <th>Sulfatos_mg SO4/l</th>\n",
       "    </tr>\n",
       "  </thead>\n",
       "  <tbody>\n",
       "    <tr>\n",
       "      <th>0</th>\n",
       "      <td>ARANJUEZ 1 - TAJO</td>\n",
       "      <td>22</td>\n",
       "      <td>MADRID</td>\n",
       "      <td>Madrid</td>\n",
       "      <td>Aranjuez</td>\n",
       "      <td>RÍO TAJO</td>\n",
       "      <td>452121</td>\n",
       "      <td>4432818</td>\n",
       "      <td>2018-06-06</td>\n",
       "      <td>&lt;0,10</td>\n",
       "      <td>230</td>\n",
       "      <td>&lt;2,0</td>\n",
       "      <td>&lt;20</td>\n",
       "      <td>0.34</td>\n",
       "      <td>&lt;0,10</td>\n",
       "      <td>5.2</td>\n",
       "      <td>&lt;0,05</td>\n",
       "      <td>&lt;2,0</td>\n",
       "      <td>24</td>\n",
       "      <td>510</td>\n",
       "    </tr>\n",
       "    <tr>\n",
       "      <th>1</th>\n",
       "      <td>ARANJUEZ 1 - TAJO</td>\n",
       "      <td>22</td>\n",
       "      <td>MADRID</td>\n",
       "      <td>Madrid</td>\n",
       "      <td>Aranjuez</td>\n",
       "      <td>RÍO TAJO</td>\n",
       "      <td>452121</td>\n",
       "      <td>4432818</td>\n",
       "      <td>2018-03-22</td>\n",
       "      <td>&lt;0,10</td>\n",
       "      <td>390</td>\n",
       "      <td>&lt;2,0</td>\n",
       "      <td>&lt;20</td>\n",
       "      <td>0.42</td>\n",
       "      <td>&lt;0,10</td>\n",
       "      <td>6.1</td>\n",
       "      <td>&lt;0,05</td>\n",
       "      <td>&lt;2,0</td>\n",
       "      <td>7</td>\n",
       "      <td>670</td>\n",
       "    </tr>\n",
       "    <tr>\n",
       "      <th>2</th>\n",
       "      <td>ARANJUEZ 1 - TAJO</td>\n",
       "      <td>22</td>\n",
       "      <td>MADRID</td>\n",
       "      <td>Madrid</td>\n",
       "      <td>Aranjuez</td>\n",
       "      <td>RÍO TAJO</td>\n",
       "      <td>452121</td>\n",
       "      <td>4432818</td>\n",
       "      <td>2018-09-27</td>\n",
       "      <td>&lt;0,10</td>\n",
       "      <td>190</td>\n",
       "      <td>&lt;2,0</td>\n",
       "      <td>&lt;20</td>\n",
       "      <td>0.30</td>\n",
       "      <td>&lt;0,10</td>\n",
       "      <td>8</td>\n",
       "      <td>&lt;0,05</td>\n",
       "      <td>&lt;2,0</td>\n",
       "      <td>18</td>\n",
       "      <td>560</td>\n",
       "    </tr>\n",
       "    <tr>\n",
       "      <th>3</th>\n",
       "      <td>ARANJUEZ 1 - TAJO</td>\n",
       "      <td>22</td>\n",
       "      <td>MADRID</td>\n",
       "      <td>Madrid</td>\n",
       "      <td>Aranjuez</td>\n",
       "      <td>RÍO TAJO</td>\n",
       "      <td>452121</td>\n",
       "      <td>4432818</td>\n",
       "      <td>2018-12-04</td>\n",
       "      <td>&lt;0,10</td>\n",
       "      <td>240</td>\n",
       "      <td>&lt;2,0</td>\n",
       "      <td>&lt;20</td>\n",
       "      <td>0.35</td>\n",
       "      <td>&lt;0,10</td>\n",
       "      <td>7</td>\n",
       "      <td>&lt;0,05</td>\n",
       "      <td>&lt;2,0</td>\n",
       "      <td>&lt;5,0</td>\n",
       "      <td>550</td>\n",
       "    </tr>\n",
       "    <tr>\n",
       "      <th>4</th>\n",
       "      <td>ARANJUEZ 1 - TAJO</td>\n",
       "      <td>22</td>\n",
       "      <td>MADRID</td>\n",
       "      <td>Madrid</td>\n",
       "      <td>Aranjuez</td>\n",
       "      <td>RÍO TAJO</td>\n",
       "      <td>443484</td>\n",
       "      <td>4432071</td>\n",
       "      <td>2018-11-19</td>\n",
       "      <td>6.8</td>\n",
       "      <td>130</td>\n",
       "      <td>&lt;2,0</td>\n",
       "      <td>29</td>\n",
       "      <td>0.29</td>\n",
       "      <td>0.6</td>\n",
       "      <td>24</td>\n",
       "      <td>1.24</td>\n",
       "      <td>14</td>\n",
       "      <td>41</td>\n",
       "      <td>300</td>\n",
       "    </tr>\n",
       "  </tbody>\n",
       "</table>\n",
       "</div>"
      ],
      "text/plain": [
       "            Estación  Código Interno    CCAA Provincia Municipio     Cauce  \\\n",
       "0  ARANJUEZ 1 - TAJO              22  MADRID    Madrid  Aranjuez  RÍO TAJO   \n",
       "1  ARANJUEZ 1 - TAJO              22  MADRID    Madrid  Aranjuez  RÍO TAJO   \n",
       "2  ARANJUEZ 1 - TAJO              22  MADRID    Madrid  Aranjuez  RÍO TAJO   \n",
       "3  ARANJUEZ 1 - TAJO              22  MADRID    Madrid  Aranjuez  RÍO TAJO   \n",
       "4  ARANJUEZ 1 - TAJO              22  MADRID    Madrid  Aranjuez  RÍO TAJO   \n",
       "\n",
       "     UTMX     UTMY Fecha de toma Amonio_mg NH4/l  Cianuros_µg CN/l  \\\n",
       "0  452121  4432818    2018-06-06           <0,10               230   \n",
       "1  452121  4432818    2018-03-22           <0,10               390   \n",
       "2  452121  4432818    2018-09-27           <0,10               190   \n",
       "3  452121  4432818    2018-12-04           <0,10               240   \n",
       "4  443484  4432071    2018-11-19             6.8               130   \n",
       "\n",
       "  DBO5_mg O2/l DQO (Cr2O7)_mg O2/l  Fluoruros_mg F/l Fosfatos_mg PO4/l  \\\n",
       "0         <2,0                 <20              0.34             <0,10   \n",
       "1         <2,0                 <20              0.42             <0,10   \n",
       "2         <2,0                 <20              0.30             <0,10   \n",
       "3         <2,0                 <20              0.35             <0,10   \n",
       "4         <2,0                  29              0.29               0.6   \n",
       "\n",
       "  Nitratos_mg NO3/l Nitritos_mg NO2/l Nitrógeno total_mgN/l  \\\n",
       "0               5.2             <0,05                  <2,0   \n",
       "1               6.1             <0,05                  <2,0   \n",
       "2                 8             <0,05                  <2,0   \n",
       "3                 7             <0,05                  <2,0   \n",
       "4                24              1.24                    14   \n",
       "\n",
       "  Sólidos en suspensión_mg/l  Sulfatos_mg SO4/l  \n",
       "0                         24                510  \n",
       "1                          7                670  \n",
       "2                         18                560  \n",
       "3                       <5,0                550  \n",
       "4                         41                300  "
      ]
     },
     "execution_count": 4,
     "metadata": {},
     "output_type": "execute_result"
    }
   ],
   "source": [
    "data.head()"
   ]
  },
  {
   "cell_type": "markdown",
   "id": "5a9d52d0",
   "metadata": {},
   "source": [
    "Como podemos observar, existen varias columnas que no aportarán ninguna información útil para nuestro análisis. Vamos a eliminarlas."
   ]
  },
  {
   "cell_type": "code",
   "execution_count": 5,
   "id": "54cc8b94",
   "metadata": {},
   "outputs": [],
   "source": [
    "data = data.drop(['CCAA', 'Provincia', 'Municipio', 'Cauce', 'UTMX', 'UTMY'], axis = 1)"
   ]
  },
  {
   "cell_type": "code",
   "execution_count": 6,
   "id": "b01f3859",
   "metadata": {},
   "outputs": [
    {
     "data": {
      "text/html": [
       "<div>\n",
       "<style scoped>\n",
       "    .dataframe tbody tr th:only-of-type {\n",
       "        vertical-align: middle;\n",
       "    }\n",
       "\n",
       "    .dataframe tbody tr th {\n",
       "        vertical-align: top;\n",
       "    }\n",
       "\n",
       "    .dataframe thead th {\n",
       "        text-align: right;\n",
       "    }\n",
       "</style>\n",
       "<table border=\"1\" class=\"dataframe\">\n",
       "  <thead>\n",
       "    <tr style=\"text-align: right;\">\n",
       "      <th></th>\n",
       "      <th>Estación</th>\n",
       "      <th>Código Interno</th>\n",
       "      <th>Fecha de toma</th>\n",
       "      <th>Amonio_mg NH4/l</th>\n",
       "      <th>Cianuros_µg CN/l</th>\n",
       "      <th>DBO5_mg O2/l</th>\n",
       "      <th>DQO (Cr2O7)_mg O2/l</th>\n",
       "      <th>Fluoruros_mg F/l</th>\n",
       "      <th>Fosfatos_mg PO4/l</th>\n",
       "      <th>Nitratos_mg NO3/l</th>\n",
       "      <th>Nitritos_mg NO2/l</th>\n",
       "      <th>Nitrógeno total_mgN/l</th>\n",
       "      <th>Sólidos en suspensión_mg/l</th>\n",
       "      <th>Sulfatos_mg SO4/l</th>\n",
       "    </tr>\n",
       "  </thead>\n",
       "  <tbody>\n",
       "    <tr>\n",
       "      <th>0</th>\n",
       "      <td>ARANJUEZ 1 - TAJO</td>\n",
       "      <td>22</td>\n",
       "      <td>2018-06-06</td>\n",
       "      <td>&lt;0,10</td>\n",
       "      <td>230</td>\n",
       "      <td>&lt;2,0</td>\n",
       "      <td>&lt;20</td>\n",
       "      <td>0.34</td>\n",
       "      <td>&lt;0,10</td>\n",
       "      <td>5.2</td>\n",
       "      <td>&lt;0,05</td>\n",
       "      <td>&lt;2,0</td>\n",
       "      <td>24</td>\n",
       "      <td>510</td>\n",
       "    </tr>\n",
       "    <tr>\n",
       "      <th>1</th>\n",
       "      <td>ARANJUEZ 1 - TAJO</td>\n",
       "      <td>22</td>\n",
       "      <td>2018-03-22</td>\n",
       "      <td>&lt;0,10</td>\n",
       "      <td>390</td>\n",
       "      <td>&lt;2,0</td>\n",
       "      <td>&lt;20</td>\n",
       "      <td>0.42</td>\n",
       "      <td>&lt;0,10</td>\n",
       "      <td>6.1</td>\n",
       "      <td>&lt;0,05</td>\n",
       "      <td>&lt;2,0</td>\n",
       "      <td>7</td>\n",
       "      <td>670</td>\n",
       "    </tr>\n",
       "    <tr>\n",
       "      <th>2</th>\n",
       "      <td>ARANJUEZ 1 - TAJO</td>\n",
       "      <td>22</td>\n",
       "      <td>2018-09-27</td>\n",
       "      <td>&lt;0,10</td>\n",
       "      <td>190</td>\n",
       "      <td>&lt;2,0</td>\n",
       "      <td>&lt;20</td>\n",
       "      <td>0.30</td>\n",
       "      <td>&lt;0,10</td>\n",
       "      <td>8</td>\n",
       "      <td>&lt;0,05</td>\n",
       "      <td>&lt;2,0</td>\n",
       "      <td>18</td>\n",
       "      <td>560</td>\n",
       "    </tr>\n",
       "    <tr>\n",
       "      <th>3</th>\n",
       "      <td>ARANJUEZ 1 - TAJO</td>\n",
       "      <td>22</td>\n",
       "      <td>2018-12-04</td>\n",
       "      <td>&lt;0,10</td>\n",
       "      <td>240</td>\n",
       "      <td>&lt;2,0</td>\n",
       "      <td>&lt;20</td>\n",
       "      <td>0.35</td>\n",
       "      <td>&lt;0,10</td>\n",
       "      <td>7</td>\n",
       "      <td>&lt;0,05</td>\n",
       "      <td>&lt;2,0</td>\n",
       "      <td>&lt;5,0</td>\n",
       "      <td>550</td>\n",
       "    </tr>\n",
       "    <tr>\n",
       "      <th>4</th>\n",
       "      <td>ARANJUEZ 1 - TAJO</td>\n",
       "      <td>22</td>\n",
       "      <td>2018-11-19</td>\n",
       "      <td>6.8</td>\n",
       "      <td>130</td>\n",
       "      <td>&lt;2,0</td>\n",
       "      <td>29</td>\n",
       "      <td>0.29</td>\n",
       "      <td>0.6</td>\n",
       "      <td>24</td>\n",
       "      <td>1.24</td>\n",
       "      <td>14</td>\n",
       "      <td>41</td>\n",
       "      <td>300</td>\n",
       "    </tr>\n",
       "  </tbody>\n",
       "</table>\n",
       "</div>"
      ],
      "text/plain": [
       "            Estación  Código Interno Fecha de toma Amonio_mg NH4/l  \\\n",
       "0  ARANJUEZ 1 - TAJO              22    2018-06-06           <0,10   \n",
       "1  ARANJUEZ 1 - TAJO              22    2018-03-22           <0,10   \n",
       "2  ARANJUEZ 1 - TAJO              22    2018-09-27           <0,10   \n",
       "3  ARANJUEZ 1 - TAJO              22    2018-12-04           <0,10   \n",
       "4  ARANJUEZ 1 - TAJO              22    2018-11-19             6.8   \n",
       "\n",
       "   Cianuros_µg CN/l DBO5_mg O2/l DQO (Cr2O7)_mg O2/l  Fluoruros_mg F/l  \\\n",
       "0               230         <2,0                 <20              0.34   \n",
       "1               390         <2,0                 <20              0.42   \n",
       "2               190         <2,0                 <20              0.30   \n",
       "3               240         <2,0                 <20              0.35   \n",
       "4               130         <2,0                  29              0.29   \n",
       "\n",
       "  Fosfatos_mg PO4/l Nitratos_mg NO3/l Nitritos_mg NO2/l Nitrógeno total_mgN/l  \\\n",
       "0             <0,10               5.2             <0,05                  <2,0   \n",
       "1             <0,10               6.1             <0,05                  <2,0   \n",
       "2             <0,10                 8             <0,05                  <2,0   \n",
       "3             <0,10                 7             <0,05                  <2,0   \n",
       "4               0.6                24              1.24                    14   \n",
       "\n",
       "  Sólidos en suspensión_mg/l  Sulfatos_mg SO4/l  \n",
       "0                         24                510  \n",
       "1                          7                670  \n",
       "2                         18                560  \n",
       "3                       <5,0                550  \n",
       "4                         41                300  "
      ]
     },
     "execution_count": 6,
     "metadata": {},
     "output_type": "execute_result"
    }
   ],
   "source": [
    "data.head()"
   ]
  },
  {
   "cell_type": "code",
   "execution_count": 7,
   "id": "71b30a6b",
   "metadata": {},
   "outputs": [
    {
     "name": "stdout",
     "output_type": "stream",
     "text": [
      "<class 'pandas.core.frame.DataFrame'>\n",
      "RangeIndex: 32 entries, 0 to 31\n",
      "Data columns (total 14 columns):\n",
      " #   Column                      Non-Null Count  Dtype         \n",
      "---  ------                      --------------  -----         \n",
      " 0   Estación                    32 non-null     object        \n",
      " 1   Código Interno              32 non-null     int64         \n",
      " 2   Fecha de toma               32 non-null     datetime64[ns]\n",
      " 3   Amonio_mg NH4/l             32 non-null     object        \n",
      " 4   Cianuros_µg CN/l            32 non-null     int64         \n",
      " 5   DBO5_mg O2/l                32 non-null     object        \n",
      " 6   DQO (Cr2O7)_mg O2/l         32 non-null     object        \n",
      " 7   Fluoruros_mg F/l            32 non-null     float64       \n",
      " 8   Fosfatos_mg PO4/l           32 non-null     object        \n",
      " 9   Nitratos_mg NO3/l           32 non-null     object        \n",
      " 10  Nitritos_mg NO2/l           32 non-null     object        \n",
      " 11  Nitrógeno total_mgN/l       32 non-null     object        \n",
      " 12  Sólidos en suspensión_mg/l  32 non-null     object        \n",
      " 13  Sulfatos_mg SO4/l           32 non-null     int64         \n",
      "dtypes: datetime64[ns](1), float64(1), int64(3), object(9)\n",
      "memory usage: 3.6+ KB\n"
     ]
    }
   ],
   "source": [
    "data.info()"
   ]
  },
  {
   "cell_type": "markdown",
   "id": "011525bd",
   "metadata": {},
   "source": [
    "Varias de las columnas relativas a los contaminantes aparecen como object. Es necesario modificarlas para que sean valores numéricos."
   ]
  },
  {
   "cell_type": "code",
   "execution_count": 8,
   "id": "7ea1f73e",
   "metadata": {},
   "outputs": [],
   "source": [
    "columns = data.columns.values.tolist()"
   ]
  },
  {
   "cell_type": "code",
   "execution_count": 9,
   "id": "e00854e7",
   "metadata": {},
   "outputs": [],
   "source": [
    "columns = columns[3:]"
   ]
  },
  {
   "cell_type": "code",
   "execution_count": 10,
   "id": "28264534",
   "metadata": {},
   "outputs": [
    {
     "data": {
      "text/plain": [
       "['Amonio_mg NH4/l',\n",
       " 'Cianuros_µg CN/l',\n",
       " 'DBO5_mg O2/l',\n",
       " 'DQO (Cr2O7)_mg O2/l',\n",
       " 'Fluoruros_mg F/l',\n",
       " 'Fosfatos_mg PO4/l',\n",
       " 'Nitratos_mg NO3/l',\n",
       " 'Nitritos_mg NO2/l',\n",
       " 'Nitrógeno total_mgN/l',\n",
       " 'Sólidos en suspensión_mg/l',\n",
       " 'Sulfatos_mg SO4/l']"
      ]
     },
     "execution_count": 10,
     "metadata": {},
     "output_type": "execute_result"
    }
   ],
   "source": [
    "columns"
   ]
  },
  {
   "cell_type": "code",
   "execution_count": 11,
   "id": "3b0d9e39",
   "metadata": {},
   "outputs": [],
   "source": [
    "data[columns] = data[columns].apply(pd.to_numeric, errors = 'coerce')"
   ]
  },
  {
   "cell_type": "code",
   "execution_count": 12,
   "id": "8f3e14a7",
   "metadata": {},
   "outputs": [
    {
     "data": {
      "text/html": [
       "<div>\n",
       "<style scoped>\n",
       "    .dataframe tbody tr th:only-of-type {\n",
       "        vertical-align: middle;\n",
       "    }\n",
       "\n",
       "    .dataframe tbody tr th {\n",
       "        vertical-align: top;\n",
       "    }\n",
       "\n",
       "    .dataframe thead th {\n",
       "        text-align: right;\n",
       "    }\n",
       "</style>\n",
       "<table border=\"1\" class=\"dataframe\">\n",
       "  <thead>\n",
       "    <tr style=\"text-align: right;\">\n",
       "      <th></th>\n",
       "      <th>Estación</th>\n",
       "      <th>Código Interno</th>\n",
       "      <th>Fecha de toma</th>\n",
       "      <th>Amonio_mg NH4/l</th>\n",
       "      <th>Cianuros_µg CN/l</th>\n",
       "      <th>DBO5_mg O2/l</th>\n",
       "      <th>DQO (Cr2O7)_mg O2/l</th>\n",
       "      <th>Fluoruros_mg F/l</th>\n",
       "      <th>Fosfatos_mg PO4/l</th>\n",
       "      <th>Nitratos_mg NO3/l</th>\n",
       "      <th>Nitritos_mg NO2/l</th>\n",
       "      <th>Nitrógeno total_mgN/l</th>\n",
       "      <th>Sólidos en suspensión_mg/l</th>\n",
       "      <th>Sulfatos_mg SO4/l</th>\n",
       "    </tr>\n",
       "  </thead>\n",
       "  <tbody>\n",
       "    <tr>\n",
       "      <th>0</th>\n",
       "      <td>ARANJUEZ 1 - TAJO</td>\n",
       "      <td>22</td>\n",
       "      <td>2018-06-06</td>\n",
       "      <td>NaN</td>\n",
       "      <td>230</td>\n",
       "      <td>NaN</td>\n",
       "      <td>NaN</td>\n",
       "      <td>0.34</td>\n",
       "      <td>NaN</td>\n",
       "      <td>5.2</td>\n",
       "      <td>NaN</td>\n",
       "      <td>NaN</td>\n",
       "      <td>24.0</td>\n",
       "      <td>510</td>\n",
       "    </tr>\n",
       "    <tr>\n",
       "      <th>1</th>\n",
       "      <td>ARANJUEZ 1 - TAJO</td>\n",
       "      <td>22</td>\n",
       "      <td>2018-03-22</td>\n",
       "      <td>NaN</td>\n",
       "      <td>390</td>\n",
       "      <td>NaN</td>\n",
       "      <td>NaN</td>\n",
       "      <td>0.42</td>\n",
       "      <td>NaN</td>\n",
       "      <td>6.1</td>\n",
       "      <td>NaN</td>\n",
       "      <td>NaN</td>\n",
       "      <td>7.0</td>\n",
       "      <td>670</td>\n",
       "    </tr>\n",
       "    <tr>\n",
       "      <th>2</th>\n",
       "      <td>ARANJUEZ 1 - TAJO</td>\n",
       "      <td>22</td>\n",
       "      <td>2018-09-27</td>\n",
       "      <td>NaN</td>\n",
       "      <td>190</td>\n",
       "      <td>NaN</td>\n",
       "      <td>NaN</td>\n",
       "      <td>0.30</td>\n",
       "      <td>NaN</td>\n",
       "      <td>8.0</td>\n",
       "      <td>NaN</td>\n",
       "      <td>NaN</td>\n",
       "      <td>18.0</td>\n",
       "      <td>560</td>\n",
       "    </tr>\n",
       "    <tr>\n",
       "      <th>3</th>\n",
       "      <td>ARANJUEZ 1 - TAJO</td>\n",
       "      <td>22</td>\n",
       "      <td>2018-12-04</td>\n",
       "      <td>NaN</td>\n",
       "      <td>240</td>\n",
       "      <td>NaN</td>\n",
       "      <td>NaN</td>\n",
       "      <td>0.35</td>\n",
       "      <td>NaN</td>\n",
       "      <td>7.0</td>\n",
       "      <td>NaN</td>\n",
       "      <td>NaN</td>\n",
       "      <td>NaN</td>\n",
       "      <td>550</td>\n",
       "    </tr>\n",
       "    <tr>\n",
       "      <th>4</th>\n",
       "      <td>ARANJUEZ 1 - TAJO</td>\n",
       "      <td>22</td>\n",
       "      <td>2018-11-19</td>\n",
       "      <td>6.8</td>\n",
       "      <td>130</td>\n",
       "      <td>NaN</td>\n",
       "      <td>29.0</td>\n",
       "      <td>0.29</td>\n",
       "      <td>0.6</td>\n",
       "      <td>24.0</td>\n",
       "      <td>1.24</td>\n",
       "      <td>14.0</td>\n",
       "      <td>41.0</td>\n",
       "      <td>300</td>\n",
       "    </tr>\n",
       "  </tbody>\n",
       "</table>\n",
       "</div>"
      ],
      "text/plain": [
       "            Estación  Código Interno Fecha de toma  Amonio_mg NH4/l  \\\n",
       "0  ARANJUEZ 1 - TAJO              22    2018-06-06              NaN   \n",
       "1  ARANJUEZ 1 - TAJO              22    2018-03-22              NaN   \n",
       "2  ARANJUEZ 1 - TAJO              22    2018-09-27              NaN   \n",
       "3  ARANJUEZ 1 - TAJO              22    2018-12-04              NaN   \n",
       "4  ARANJUEZ 1 - TAJO              22    2018-11-19              6.8   \n",
       "\n",
       "   Cianuros_µg CN/l  DBO5_mg O2/l  DQO (Cr2O7)_mg O2/l  Fluoruros_mg F/l  \\\n",
       "0               230           NaN                  NaN              0.34   \n",
       "1               390           NaN                  NaN              0.42   \n",
       "2               190           NaN                  NaN              0.30   \n",
       "3               240           NaN                  NaN              0.35   \n",
       "4               130           NaN                 29.0              0.29   \n",
       "\n",
       "   Fosfatos_mg PO4/l  Nitratos_mg NO3/l  Nitritos_mg NO2/l  \\\n",
       "0                NaN                5.2                NaN   \n",
       "1                NaN                6.1                NaN   \n",
       "2                NaN                8.0                NaN   \n",
       "3                NaN                7.0                NaN   \n",
       "4                0.6               24.0               1.24   \n",
       "\n",
       "   Nitrógeno total_mgN/l  Sólidos en suspensión_mg/l  Sulfatos_mg SO4/l  \n",
       "0                    NaN                        24.0                510  \n",
       "1                    NaN                         7.0                670  \n",
       "2                    NaN                        18.0                560  \n",
       "3                    NaN                         NaN                550  \n",
       "4                   14.0                        41.0                300  "
      ]
     },
     "execution_count": 12,
     "metadata": {},
     "output_type": "execute_result"
    }
   ],
   "source": [
    "data.head()"
   ]
  },
  {
   "cell_type": "markdown",
   "id": "b4e3f5f7",
   "metadata": {},
   "source": [
    "Por último vamos a sustituir los valores NaN, que coinciden con los valores menores al límite de cuantificación del ensayo utilizado para determinar la concentración de cada contaminante. Sustituiremos estos NaN por 0, ya que serán valores muy próximos a ese valor."
   ]
  },
  {
   "cell_type": "code",
   "execution_count": 13,
   "id": "384475b8",
   "metadata": {},
   "outputs": [],
   "source": [
    "data[columns] = data[columns].fillna(0)"
   ]
  },
  {
   "cell_type": "code",
   "execution_count": 14,
   "id": "d6e47b38",
   "metadata": {},
   "outputs": [
    {
     "name": "stdout",
     "output_type": "stream",
     "text": [
      "<class 'pandas.core.frame.DataFrame'>\n",
      "RangeIndex: 32 entries, 0 to 31\n",
      "Data columns (total 14 columns):\n",
      " #   Column                      Non-Null Count  Dtype         \n",
      "---  ------                      --------------  -----         \n",
      " 0   Estación                    32 non-null     object        \n",
      " 1   Código Interno              32 non-null     int64         \n",
      " 2   Fecha de toma               32 non-null     datetime64[ns]\n",
      " 3   Amonio_mg NH4/l             32 non-null     float64       \n",
      " 4   Cianuros_µg CN/l            32 non-null     int64         \n",
      " 5   DBO5_mg O2/l                32 non-null     float64       \n",
      " 6   DQO (Cr2O7)_mg O2/l         32 non-null     float64       \n",
      " 7   Fluoruros_mg F/l            32 non-null     float64       \n",
      " 8   Fosfatos_mg PO4/l           32 non-null     float64       \n",
      " 9   Nitratos_mg NO3/l           32 non-null     float64       \n",
      " 10  Nitritos_mg NO2/l           32 non-null     float64       \n",
      " 11  Nitrógeno total_mgN/l       32 non-null     float64       \n",
      " 12  Sólidos en suspensión_mg/l  32 non-null     float64       \n",
      " 13  Sulfatos_mg SO4/l           32 non-null     int64         \n",
      "dtypes: datetime64[ns](1), float64(9), int64(3), object(1)\n",
      "memory usage: 3.6+ KB\n"
     ]
    }
   ],
   "source": [
    "data.info()"
   ]
  },
  {
   "cell_type": "markdown",
   "id": "caf1812e",
   "metadata": {},
   "source": [
    "Vamos a ver la correlación entre los contaminantes mediante un mapa de calor."
   ]
  },
  {
   "cell_type": "code",
   "execution_count": 15,
   "id": "89361e8c",
   "metadata": {},
   "outputs": [
    {
     "data": {
      "text/plain": [
       "<AxesSubplot:>"
      ]
     },
     "execution_count": 15,
     "metadata": {},
     "output_type": "execute_result"
    },
    {
     "data": {
      "image/png": "[encoded data removed]",
      "text/plain": [
       "<Figure size 864x720 with 2 Axes>"
      ]
     },
     "metadata": {
      "needs_background": "light"
     },
     "output_type": "display_data"
    }
   ],
   "source": [
    "corrmat = data.corr(method = 'spearman')\n",
    "f, ax = plt.subplots(figsize = (12,10))\n",
    "sns.heatmap(corrmat, ax = ax, \n",
    "            xticklabels=corrmat.columns,\n",
    "            yticklabels=corrmat.columns,annot = True, cmap = 'YlOrBr')"
   ]
  },
  {
   "cell_type": "markdown",
   "id": "a056e6a7",
   "metadata": {},
   "source": [
    "**4. TRAIN-TEST**\n",
    "\n",
    "Vamos a dividir nuestra matriz de datos en los conjuntos train-test. Nuestro objetivo es predecir la concentración de sulfatos."
   ]
  },
  {
   "cell_type": "code",
   "execution_count": 31,
   "id": "8a15a0aa",
   "metadata": {},
   "outputs": [],
   "source": [
    "X = data[columns]"
   ]
  },
  {
   "cell_type": "code",
   "execution_count": 33,
   "id": "cbc2c5d8",
   "metadata": {},
   "outputs": [],
   "source": [
    "X_data = X.drop('Sulfatos_mg SO4/l', axis = 1)"
   ]
  },
  {
   "cell_type": "code",
   "execution_count": 34,
   "id": "e9eb94e7",
   "metadata": {},
   "outputs": [],
   "source": [
    "y_data = X['Sulfatos_mg SO4/l']"
   ]
  },
  {
   "cell_type": "code",
   "execution_count": 35,
   "id": "2b9d4249",
   "metadata": {},
   "outputs": [
    {
     "data": {
      "text/html": [
       "<div>\n",
       "<style scoped>\n",
       "    .dataframe tbody tr th:only-of-type {\n",
       "        vertical-align: middle;\n",
       "    }\n",
       "\n",
       "    .dataframe tbody tr th {\n",
       "        vertical-align: top;\n",
       "    }\n",
       "\n",
       "    .dataframe thead th {\n",
       "        text-align: right;\n",
       "    }\n",
       "</style>\n",
       "<table border=\"1\" class=\"dataframe\">\n",
       "  <thead>\n",
       "    <tr style=\"text-align: right;\">\n",
       "      <th></th>\n",
       "      <th>Amonio_mg NH4/l</th>\n",
       "      <th>Cianuros_µg CN/l</th>\n",
       "      <th>DBO5_mg O2/l</th>\n",
       "      <th>DQO (Cr2O7)_mg O2/l</th>\n",
       "      <th>Fluoruros_mg F/l</th>\n",
       "      <th>Fosfatos_mg PO4/l</th>\n",
       "      <th>Nitratos_mg NO3/l</th>\n",
       "      <th>Nitritos_mg NO2/l</th>\n",
       "      <th>Nitrógeno total_mgN/l</th>\n",
       "      <th>Sólidos en suspensión_mg/l</th>\n",
       "    </tr>\n",
       "  </thead>\n",
       "  <tbody>\n",
       "    <tr>\n",
       "      <th>0</th>\n",
       "      <td>0.0</td>\n",
       "      <td>230</td>\n",
       "      <td>0.0</td>\n",
       "      <td>0.0</td>\n",
       "      <td>0.34</td>\n",
       "      <td>0.0</td>\n",
       "      <td>5.2</td>\n",
       "      <td>0.00</td>\n",
       "      <td>0.0</td>\n",
       "      <td>24.0</td>\n",
       "    </tr>\n",
       "    <tr>\n",
       "      <th>1</th>\n",
       "      <td>0.0</td>\n",
       "      <td>390</td>\n",
       "      <td>0.0</td>\n",
       "      <td>0.0</td>\n",
       "      <td>0.42</td>\n",
       "      <td>0.0</td>\n",
       "      <td>6.1</td>\n",
       "      <td>0.00</td>\n",
       "      <td>0.0</td>\n",
       "      <td>7.0</td>\n",
       "    </tr>\n",
       "    <tr>\n",
       "      <th>2</th>\n",
       "      <td>0.0</td>\n",
       "      <td>190</td>\n",
       "      <td>0.0</td>\n",
       "      <td>0.0</td>\n",
       "      <td>0.30</td>\n",
       "      <td>0.0</td>\n",
       "      <td>8.0</td>\n",
       "      <td>0.00</td>\n",
       "      <td>0.0</td>\n",
       "      <td>18.0</td>\n",
       "    </tr>\n",
       "    <tr>\n",
       "      <th>3</th>\n",
       "      <td>0.0</td>\n",
       "      <td>240</td>\n",
       "      <td>0.0</td>\n",
       "      <td>0.0</td>\n",
       "      <td>0.35</td>\n",
       "      <td>0.0</td>\n",
       "      <td>7.0</td>\n",
       "      <td>0.00</td>\n",
       "      <td>0.0</td>\n",
       "      <td>0.0</td>\n",
       "    </tr>\n",
       "    <tr>\n",
       "      <th>4</th>\n",
       "      <td>6.8</td>\n",
       "      <td>130</td>\n",
       "      <td>0.0</td>\n",
       "      <td>29.0</td>\n",
       "      <td>0.29</td>\n",
       "      <td>0.6</td>\n",
       "      <td>24.0</td>\n",
       "      <td>1.24</td>\n",
       "      <td>14.0</td>\n",
       "      <td>41.0</td>\n",
       "    </tr>\n",
       "  </tbody>\n",
       "</table>\n",
       "</div>"
      ],
      "text/plain": [
       "   Amonio_mg NH4/l  Cianuros_µg CN/l  DBO5_mg O2/l  DQO (Cr2O7)_mg O2/l  \\\n",
       "0              0.0               230           0.0                  0.0   \n",
       "1              0.0               390           0.0                  0.0   \n",
       "2              0.0               190           0.0                  0.0   \n",
       "3              0.0               240           0.0                  0.0   \n",
       "4              6.8               130           0.0                 29.0   \n",
       "\n",
       "   Fluoruros_mg F/l  Fosfatos_mg PO4/l  Nitratos_mg NO3/l  Nitritos_mg NO2/l  \\\n",
       "0              0.34                0.0                5.2               0.00   \n",
       "1              0.42                0.0                6.1               0.00   \n",
       "2              0.30                0.0                8.0               0.00   \n",
       "3              0.35                0.0                7.0               0.00   \n",
       "4              0.29                0.6               24.0               1.24   \n",
       "\n",
       "   Nitrógeno total_mgN/l  Sólidos en suspensión_mg/l  \n",
       "0                    0.0                        24.0  \n",
       "1                    0.0                         7.0  \n",
       "2                    0.0                        18.0  \n",
       "3                    0.0                         0.0  \n",
       "4                   14.0                        41.0  "
      ]
     },
     "execution_count": 35,
     "metadata": {},
     "output_type": "execute_result"
    }
   ],
   "source": [
    "X_data.head()"
   ]
  },
  {
   "cell_type": "code",
   "execution_count": 36,
   "id": "7eedda4f",
   "metadata": {},
   "outputs": [
    {
     "data": {
      "text/plain": [
       "0    510\n",
       "1    670\n",
       "2    560\n",
       "3    550\n",
       "4    300\n",
       "Name: Sulfatos_mg SO4/l, dtype: int64"
      ]
     },
     "execution_count": 36,
     "metadata": {},
     "output_type": "execute_result"
    }
   ],
   "source": [
    "y_data.head()"
   ]
  },
  {
   "cell_type": "code",
   "execution_count": 38,
   "id": "e2e308bc",
   "metadata": {},
   "outputs": [],
   "source": [
    "from sklearn.model_selection import train_test_split\n",
    "\n",
    "X_train, X_test, y_train, y_test = train_test_split(X_data, y_data, test_size = 0.3, random_state = 42)"
   ]
  },
  {
   "cell_type": "code",
   "execution_count": 39,
   "id": "ff34a298",
   "metadata": {},
   "outputs": [
    {
     "name": "stdout",
     "output_type": "stream",
     "text": [
      "El conjunto train tiene 22 muestras.\n",
      "El conjunto set tiene 10 muestras.\n"
     ]
    }
   ],
   "source": [
    "print(\"El conjunto train tiene {} muestras.\".format(X_train.shape[0]))\n",
    "print(\"El conjunto set tiene {} muestras.\".format(X_test.shape[0]))"
   ]
  },
  {
   "cell_type": "markdown",
   "id": "9bb084e6",
   "metadata": {},
   "source": [
    "**5. MODELOS**\n",
    "\n",
    "Vamos a entrenar los siguientes modelos: regresión lineal, Ridge y Lasso. Compararemos sus valores de precisión y el error cuadrático medio de cada uno de los modelos generados"
   ]
  },
  {
   "cell_type": "markdown",
   "id": "47bf5df4",
   "metadata": {},
   "source": [
    "__5.1. Regresión lineal__\n",
    "\n",
    "Comenzaremos con el modelo de regresión lineal."
   ]
  },
  {
   "cell_type": "code",
   "execution_count": 26,
   "id": "fce23140",
   "metadata": {},
   "outputs": [],
   "source": [
    "s = StandardScaler()\n",
    "lr = LinearRegression()"
   ]
  },
  {
   "cell_type": "code",
   "execution_count": 43,
   "id": "1a00f51b",
   "metadata": {},
   "outputs": [
    {
     "data": {
      "text/plain": [
       "0.2642643472981029"
      ]
     },
     "execution_count": 43,
     "metadata": {},
     "output_type": "execute_result"
    }
   ],
   "source": [
    "X_train_s = s.fit_transform(X_train)\n",
    "lr.fit(X_train_s, y_train)\n",
    "X_test_s = s.transform(X_test)\n",
    "y_pred = lr.predict(X_test_s)\n",
    "\n",
    "linear_score = r2_score(y_test.values, y_pred)\n",
    "linear_score"
   ]
  },
  {
   "cell_type": "markdown",
   "id": "f4af4059",
   "metadata": {},
   "source": [
    "__5.2. Regresión de Lasso__"
   ]
  },
  {
   "cell_type": "code",
   "execution_count": 60,
   "id": "606a150b",
   "metadata": {},
   "outputs": [
    {
     "data": {
      "image/png": "[encoded data removed]",
      "text/plain": [
       "<Figure size 432x288 with 1 Axes>"
      ]
     },
     "metadata": {
      "needs_background": "light"
     },
     "output_type": "display_data"
    }
   ],
   "source": [
    "pf = PolynomialFeatures(degree=3)\n",
    "kf = KFold(shuffle=True, random_state=72018, n_splits=3)\n",
    "scores = []\n",
    "alphas = np.geomspace(0.06, 6.0, 20)\n",
    "predictions_lsr = []\n",
    "for alpha in alphas:\n",
    "    las = Lasso(alpha=alpha, max_iter=100000)\n",
    "    \n",
    "    estimator = Pipeline([\n",
    "        (\"scaler\", s),\n",
    "        (\"make_higher_degree\", pf),\n",
    "        (\"lasso_regression\", las)])\n",
    "\n",
    "    predictions_lsr = cross_val_predict(estimator, X_train, y_train, cv = kf)\n",
    "    \n",
    "    score = r2_score(y_train, predictions_lsr)\n",
    "    \n",
    "    scores.append(score)\n",
    "plt.semilogx(alphas, scores, '-o', color='green')\n",
    "plt.title('Lasso Regression')\n",
    "plt.xlabel('$\\\\alpha$')\n",
    "plt.ylabel('$R^2$');"
   ]
  },
  {
   "cell_type": "code",
   "execution_count": 70,
   "id": "86215312",
   "metadata": {},
   "outputs": [
    {
     "data": {
      "text/plain": [
       "0.9999968774202833"
      ]
     },
     "execution_count": 70,
     "metadata": {},
     "output_type": "execute_result"
    }
   ],
   "source": [
    "best_estimator_las = Pipeline([\n",
    "                    (\"scaler\", s),\n",
    "                    (\"make_higher_degree\", PolynomialFeatures(degree=2)),\n",
    "                    (\"lasso_regression\", Lasso(alpha=0.03))])\n",
    "\n",
    "best_estimator_las.fit(X_train, y_train)\n",
    "lasso_score = best_estimator_las.score(X_train, y_train)\n",
    "lasso_score"
   ]
  },
  {
   "cell_type": "markdown",
   "id": "e191cee3",
   "metadata": {},
   "source": [
    "__5.2. Regresión de Ridge__"
   ]
  },
  {
   "cell_type": "code",
   "execution_count": 61,
   "id": "e9f92068",
   "metadata": {},
   "outputs": [
    {
     "data": {
      "image/png": "[encoded data removed]",
      "text/plain": [
       "<Figure size 432x288 with 1 Axes>"
      ]
     },
     "metadata": {
      "needs_background": "light"
     },
     "output_type": "display_data"
    }
   ],
   "source": [
    "pf = PolynomialFeatures(degree=2)\n",
    "alphas = np.geomspace(4, 20, 20)\n",
    "scores=[]\n",
    "predictions_rr = []\n",
    "for alpha in alphas:\n",
    "    ridge = Ridge(alpha=alpha, max_iter=100000)\n",
    "\n",
    "    estimator = Pipeline([\n",
    "        (\"scaler\", s),\n",
    "        (\"polynomial_features\", pf),\n",
    "        (\"ridge_regression\", ridge)])\n",
    "\n",
    "    predictions_rr = cross_val_predict(estimator, X_train, y_train, cv = kf)\n",
    "    score = r2_score(y_train, predictions_rr)\n",
    "    scores.append(score)\n",
    "\n",
    "plt.plot(alphas, scores, '-o', color='blue')\n",
    "plt.title('Ridge Regression')\n",
    "plt.xlabel('$\\\\alpha$')\n",
    "plt.ylabel('$R^2$');"
   ]
  },
  {
   "cell_type": "code",
   "execution_count": 71,
   "id": "e819c333",
   "metadata": {},
   "outputs": [
    {
     "data": {
      "text/plain": [
       "0.9999985521370487"
      ]
     },
     "execution_count": 71,
     "metadata": {},
     "output_type": "execute_result"
    }
   ],
   "source": [
    "best_estimator_rg = Pipeline([\n",
    "                    (\"scaler\", s),\n",
    "                    (\"make_higher_degree\", PolynomialFeatures(degree=2)),\n",
    "                    (\"ridge_regression\", Ridge(alpha=0.03))])\n",
    "\n",
    "best_estimator_rg.fit(X_train, y_train)\n",
    "ridge_score = best_estimator_rg.score(X_train, y_train)\n",
    "ridge_score"
   ]
  },
  {
   "cell_type": "markdown",
   "id": "a82735da",
   "metadata": {},
   "source": [
    "**6. COMPARACIÓN DE LOS MODELOS**"
   ]
  },
  {
   "cell_type": "code",
   "execution_count": 75,
   "id": "ea222bb3",
   "metadata": {},
   "outputs": [
    {
     "data": {
      "text/html": [
       "<div>\n",
       "<style scoped>\n",
       "    .dataframe tbody tr th:only-of-type {\n",
       "        vertical-align: middle;\n",
       "    }\n",
       "\n",
       "    .dataframe tbody tr th {\n",
       "        vertical-align: top;\n",
       "    }\n",
       "\n",
       "    .dataframe thead th {\n",
       "        text-align: right;\n",
       "    }\n",
       "</style>\n",
       "<table border=\"1\" class=\"dataframe\">\n",
       "  <thead>\n",
       "    <tr style=\"text-align: right;\">\n",
       "      <th></th>\n",
       "      <th>Linear</th>\n",
       "      <th>Lasso</th>\n",
       "      <th>Ridge</th>\n",
       "    </tr>\n",
       "  </thead>\n",
       "  <tbody>\n",
       "    <tr>\n",
       "      <th>score</th>\n",
       "      <td>0.264264</td>\n",
       "      <td>0.999997</td>\n",
       "      <td>0.999999</td>\n",
       "    </tr>\n",
       "  </tbody>\n",
       "</table>\n",
       "</div>"
      ],
      "text/plain": [
       "         Linear     Lasso     Ridge\n",
       "score  0.264264  0.999997  0.999999"
      ]
     },
     "execution_count": 75,
     "metadata": {},
     "output_type": "execute_result"
    }
   ],
   "source": [
    "pd.DataFrame([[linear_score, lasso_score, ridge_score]],columns=['Linear', 'Lasso', 'Ridge'], index=['score'])"
   ]
  },
  {
   "cell_type": "code",
   "execution_count": 63,
   "id": "ac6ae44c",
   "metadata": {},
   "outputs": [],
   "source": [
    "def rmse(ytrue, ypredicted):\n",
    "    return np.sqrt(mean_squared_error(ytrue, ypredicted))\n",
    "\n"
   ]
  },
  {
   "cell_type": "code",
   "execution_count": 72,
   "id": "95aba89c",
   "metadata": {},
   "outputs": [],
   "source": [
    "linearRegression_rmse = rmse(y_test, lr.predict(X_test))\n",
    "lasso_rmse = rmse(y_test, best_estimator_las.predict(X_test))\n",
    "ridge_rmse = rmse(y_test, best_estimator_rg.predict(X_test))"
   ]
  },
  {
   "cell_type": "code",
   "execution_count": 74,
   "id": "ba328c63",
   "metadata": {},
   "outputs": [
    {
     "data": {
      "text/html": [
       "<div>\n",
       "<style scoped>\n",
       "    .dataframe tbody tr th:only-of-type {\n",
       "        vertical-align: middle;\n",
       "    }\n",
       "\n",
       "    .dataframe tbody tr th {\n",
       "        vertical-align: top;\n",
       "    }\n",
       "\n",
       "    .dataframe thead th {\n",
       "        text-align: right;\n",
       "    }\n",
       "</style>\n",
       "<table border=\"1\" class=\"dataframe\">\n",
       "  <thead>\n",
       "    <tr style=\"text-align: right;\">\n",
       "      <th></th>\n",
       "      <th>Linear</th>\n",
       "      <th>Lasso</th>\n",
       "      <th>Ridge</th>\n",
       "    </tr>\n",
       "  </thead>\n",
       "  <tbody>\n",
       "    <tr>\n",
       "      <th>rmse</th>\n",
       "      <td>7350.46631</td>\n",
       "      <td>93.467337</td>\n",
       "      <td>85.023569</td>\n",
       "    </tr>\n",
       "  </tbody>\n",
       "</table>\n",
       "</div>"
      ],
      "text/plain": [
       "          Linear      Lasso      Ridge\n",
       "rmse  7350.46631  93.467337  85.023569"
      ]
     },
     "execution_count": 74,
     "metadata": {},
     "output_type": "execute_result"
    }
   ],
   "source": [
    "rmse_df = pd.DataFrame([[linearRegression_rmse, lasso_rmse, ridge_rmse]],columns=['Linear', 'Lasso', 'Ridge'], index=['rmse'])\n",
    "rmse_df"
   ]
  },
  {
   "cell_type": "markdown",
   "id": "671795ab",
   "metadata": {},
   "source": [
    "Los modelos de Lasso y Ridge presentan un mejor ajuste a los datos, sin embargo, el error es alto. Esto es debido a un sobrejuste del modelo, debido probablemente a la serie temporal de los datos. Sería necesaria una serie temporal mayor para que los modelos se ajusten mejor."
   ]
  }
 ],
 "metadata": {
  "kernelspec": {
   "display_name": "Python 3",
   "language": "python",
   "name": "python3"
  },
  "language_info": {
   "codemirror_mode": {
    "name": "ipython",
    "version": 3
   },
   "file_extension": ".py",
   "mimetype": "text/x-python",
   "name": "python",
   "nbconvert_exporter": "python",
   "pygments_lexer": "ipython3",
   "version": "3.8.8"
  }
 },
 "nbformat": 4,
 "nbformat_minor": 5
}
