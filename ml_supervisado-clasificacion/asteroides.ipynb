{
 "cells": [
  {
   "cell_type": "markdown",
   "id": "bb67cd44",
   "metadata": {},
   "source": [
    "**ASTEROIDES CON PELIGRO POTENCIAL PARA LA TIERRA**\n",
    "=="
   ]
  },
  {
   "cell_type": "markdown",
   "id": "a1dc2f44",
   "metadata": {},
   "source": [
    "Recientemente, la NASA llevó a cabo el primer intento para desviar un asteriode que pudiera suponer un peligro de colisión con la Tierra (https://www.nasa.gov/planetarydefense/dart/).\n",
    "\n",
    "Utilizando datos procedentes de la NASA (https://ssd.jpl.nasa.gov/tools/sbdb_query.html) intentaremos evaluar mediante modelos de machine learning si es posible predecir si un asteroide es potencialmente peligroso para nuestro planeta."
   ]
  },
  {
   "cell_type": "markdown",
   "id": "c1a3b866",
   "metadata": {},
   "source": [
    "**1. ANÁLISIS EXPLORATORIO DE LOS DATOS**\n"
   ]
  },
  {
   "cell_type": "code",
   "execution_count": 1,
   "id": "016c9de6",
   "metadata": {},
   "outputs": [],
   "source": [
    "import pandas as pd\n",
    "import numpy as np\n",
    "import seaborn as sns\n",
    "import matplotlib.pyplot as plt\n",
    "from sklearn.preprocessing import LabelBinarizer, LabelEncoder, OrdinalEncoder, MinMaxScaler\n",
    "from sklearn.model_selection import StratifiedShuffleSplit, train_test_split, GridSearchCV\n",
    "from sklearn.neighbors import KNeighborsClassifier\n",
    "from sklearn.metrics import confusion_matrix, accuracy_score, classification_report, precision_score, f1_score, roc_auc_score\n",
    "from sklearn.linear_model import LogisticRegression\n",
    "from sklearn.tree import DecisionTreeClassifier\n",
    "from sklearn.ensemble import RandomForestClassifier\n",
    "from sklearn.metrics import precision_recall_fscore_support as score\n",
    "\n",
    "\n",
    "import warnings\n",
    "warnings.filterwarnings('ignore', module='sklearn')\n",
    "warnings.filterwarnings('ignore', module='IPython')"
   ]
  },
  {
   "cell_type": "code",
   "execution_count": 2,
   "id": "b3fdf080",
   "metadata": {},
   "outputs": [],
   "source": [
    "filepath = 'C:/Users/NITROPC/Desktop/DATA SCIENCE/CERTIFICACION MACHINE LEARNING/06 - PROYECTO/dataset.csv'\n",
    "\n",
    "data = pd.read_csv(filepath, sep = ',')\n"
   ]
  },
  {
   "cell_type": "code",
   "execution_count": 3,
   "id": "e98c66fd",
   "metadata": {},
   "outputs": [
    {
     "data": {
      "text/html": [
       "<div>\n",
       "<style scoped>\n",
       "    .dataframe tbody tr th:only-of-type {\n",
       "        vertical-align: middle;\n",
       "    }\n",
       "\n",
       "    .dataframe tbody tr th {\n",
       "        vertical-align: top;\n",
       "    }\n",
       "\n",
       "    .dataframe thead th {\n",
       "        text-align: right;\n",
       "    }\n",
       "</style>\n",
       "<table border=\"1\" class=\"dataframe\">\n",
       "  <thead>\n",
       "    <tr style=\"text-align: right;\">\n",
       "      <th></th>\n",
       "      <th>id</th>\n",
       "      <th>spkid</th>\n",
       "      <th>full_name</th>\n",
       "      <th>pdes</th>\n",
       "      <th>name</th>\n",
       "      <th>prefix</th>\n",
       "      <th>neo</th>\n",
       "      <th>pha</th>\n",
       "      <th>H</th>\n",
       "      <th>diameter</th>\n",
       "      <th>...</th>\n",
       "      <th>sigma_i</th>\n",
       "      <th>sigma_om</th>\n",
       "      <th>sigma_w</th>\n",
       "      <th>sigma_ma</th>\n",
       "      <th>sigma_ad</th>\n",
       "      <th>sigma_n</th>\n",
       "      <th>sigma_tp</th>\n",
       "      <th>sigma_per</th>\n",
       "      <th>class</th>\n",
       "      <th>rms</th>\n",
       "    </tr>\n",
       "  </thead>\n",
       "  <tbody>\n",
       "    <tr>\n",
       "      <th>0</th>\n",
       "      <td>a0000001</td>\n",
       "      <td>2000001</td>\n",
       "      <td>1 Ceres</td>\n",
       "      <td>1</td>\n",
       "      <td>Ceres</td>\n",
       "      <td>NaN</td>\n",
       "      <td>N</td>\n",
       "      <td>N</td>\n",
       "      <td>3.40</td>\n",
       "      <td>939.400</td>\n",
       "      <td>...</td>\n",
       "      <td>4.608900e-09</td>\n",
       "      <td>6.168800e-08</td>\n",
       "      <td>6.624800e-08</td>\n",
       "      <td>7.820700e-09</td>\n",
       "      <td>1.111300e-11</td>\n",
       "      <td>1.196500e-12</td>\n",
       "      <td>3.782900e-08</td>\n",
       "      <td>9.415900e-09</td>\n",
       "      <td>MBA</td>\n",
       "      <td>0.43301</td>\n",
       "    </tr>\n",
       "    <tr>\n",
       "      <th>1</th>\n",
       "      <td>a0000002</td>\n",
       "      <td>2000002</td>\n",
       "      <td>2 Pallas</td>\n",
       "      <td>2</td>\n",
       "      <td>Pallas</td>\n",
       "      <td>NaN</td>\n",
       "      <td>N</td>\n",
       "      <td>N</td>\n",
       "      <td>4.20</td>\n",
       "      <td>545.000</td>\n",
       "      <td>...</td>\n",
       "      <td>3.469400e-06</td>\n",
       "      <td>6.272400e-06</td>\n",
       "      <td>9.128200e-06</td>\n",
       "      <td>8.859100e-06</td>\n",
       "      <td>4.961300e-09</td>\n",
       "      <td>4.653600e-10</td>\n",
       "      <td>4.078700e-05</td>\n",
       "      <td>3.680700e-06</td>\n",
       "      <td>MBA</td>\n",
       "      <td>0.35936</td>\n",
       "    </tr>\n",
       "    <tr>\n",
       "      <th>2</th>\n",
       "      <td>a0000003</td>\n",
       "      <td>2000003</td>\n",
       "      <td>3 Juno</td>\n",
       "      <td>3</td>\n",
       "      <td>Juno</td>\n",
       "      <td>NaN</td>\n",
       "      <td>N</td>\n",
       "      <td>N</td>\n",
       "      <td>5.33</td>\n",
       "      <td>246.596</td>\n",
       "      <td>...</td>\n",
       "      <td>3.223100e-06</td>\n",
       "      <td>1.664600e-05</td>\n",
       "      <td>1.772100e-05</td>\n",
       "      <td>8.110400e-06</td>\n",
       "      <td>4.363900e-09</td>\n",
       "      <td>4.413400e-10</td>\n",
       "      <td>3.528800e-05</td>\n",
       "      <td>3.107200e-06</td>\n",
       "      <td>MBA</td>\n",
       "      <td>0.33848</td>\n",
       "    </tr>\n",
       "    <tr>\n",
       "      <th>3</th>\n",
       "      <td>a0000004</td>\n",
       "      <td>2000004</td>\n",
       "      <td>4 Vesta</td>\n",
       "      <td>4</td>\n",
       "      <td>Vesta</td>\n",
       "      <td>NaN</td>\n",
       "      <td>N</td>\n",
       "      <td>N</td>\n",
       "      <td>3.00</td>\n",
       "      <td>525.400</td>\n",
       "      <td>...</td>\n",
       "      <td>2.170600e-07</td>\n",
       "      <td>3.880800e-07</td>\n",
       "      <td>1.789300e-07</td>\n",
       "      <td>1.206800e-06</td>\n",
       "      <td>1.648600e-09</td>\n",
       "      <td>2.612500e-10</td>\n",
       "      <td>4.103700e-06</td>\n",
       "      <td>1.274900e-06</td>\n",
       "      <td>MBA</td>\n",
       "      <td>0.39980</td>\n",
       "    </tr>\n",
       "    <tr>\n",
       "      <th>4</th>\n",
       "      <td>a0000005</td>\n",
       "      <td>2000005</td>\n",
       "      <td>5 Astraea</td>\n",
       "      <td>5</td>\n",
       "      <td>Astraea</td>\n",
       "      <td>NaN</td>\n",
       "      <td>N</td>\n",
       "      <td>N</td>\n",
       "      <td>6.90</td>\n",
       "      <td>106.699</td>\n",
       "      <td>...</td>\n",
       "      <td>2.740800e-06</td>\n",
       "      <td>2.894900e-05</td>\n",
       "      <td>2.984200e-05</td>\n",
       "      <td>8.303800e-06</td>\n",
       "      <td>4.729000e-09</td>\n",
       "      <td>5.522700e-10</td>\n",
       "      <td>3.474300e-05</td>\n",
       "      <td>3.490500e-06</td>\n",
       "      <td>MBA</td>\n",
       "      <td>0.52191</td>\n",
       "    </tr>\n",
       "  </tbody>\n",
       "</table>\n",
       "<p>5 rows × 45 columns</p>\n",
       "</div>"
      ],
      "text/plain": [
       "         id    spkid       full_name pdes     name prefix neo pha     H  \\\n",
       "0  a0000001  2000001         1 Ceres    1    Ceres    NaN   N   N  3.40   \n",
       "1  a0000002  2000002        2 Pallas    2   Pallas    NaN   N   N  4.20   \n",
       "2  a0000003  2000003          3 Juno    3     Juno    NaN   N   N  5.33   \n",
       "3  a0000004  2000004         4 Vesta    4    Vesta    NaN   N   N  3.00   \n",
       "4  a0000005  2000005       5 Astraea    5  Astraea    NaN   N   N  6.90   \n",
       "\n",
       "   diameter  ...       sigma_i      sigma_om       sigma_w      sigma_ma  \\\n",
       "0   939.400  ...  4.608900e-09  6.168800e-08  6.624800e-08  7.820700e-09   \n",
       "1   545.000  ...  3.469400e-06  6.272400e-06  9.128200e-06  8.859100e-06   \n",
       "2   246.596  ...  3.223100e-06  1.664600e-05  1.772100e-05  8.110400e-06   \n",
       "3   525.400  ...  2.170600e-07  3.880800e-07  1.789300e-07  1.206800e-06   \n",
       "4   106.699  ...  2.740800e-06  2.894900e-05  2.984200e-05  8.303800e-06   \n",
       "\n",
       "       sigma_ad       sigma_n      sigma_tp     sigma_per  class      rms  \n",
       "0  1.111300e-11  1.196500e-12  3.782900e-08  9.415900e-09    MBA  0.43301  \n",
       "1  4.961300e-09  4.653600e-10  4.078700e-05  3.680700e-06    MBA  0.35936  \n",
       "2  4.363900e-09  4.413400e-10  3.528800e-05  3.107200e-06    MBA  0.33848  \n",
       "3  1.648600e-09  2.612500e-10  4.103700e-06  1.274900e-06    MBA  0.39980  \n",
       "4  4.729000e-09  5.522700e-10  3.474300e-05  3.490500e-06    MBA  0.52191  \n",
       "\n",
       "[5 rows x 45 columns]"
      ]
     },
     "execution_count": 3,
     "metadata": {},
     "output_type": "execute_result"
    }
   ],
   "source": [
    "data.head()"
   ]
  },
  {
   "cell_type": "markdown",
   "id": "177bd083",
   "metadata": {},
   "source": [
    "A continuación se recoge la descripción básica de las columnas, de acuerdo a lo indicado en la web JPL:\n",
    "* SPK-ID: Object primary SPK-ID\n",
    "* Object ID: Object internal database ID\n",
    "* Object fullname: Object full name/designation\n",
    "* pdes: Object primary designation\n",
    "* name: Object IAU name\n",
    "* NEO: Near-Earth Object (NEO) flag\n",
    "* PHA: Potentially Hazardous Asteroid (PHA) flag\n",
    "* H: Absolute magnitude parameter\n",
    "* Diameter: object diameter (from equivalent sphere) km Unit\n",
    "* Albedo: Geometric albedo\n",
    "* Diameter_sigma: 1-sigma uncertainty in object diameter km Unit\n",
    "* Orbit_id: Orbit solution ID\n",
    "* Epoch: Epoch of osculation in modified Julian day form\n",
    "* Equinox: Equinox of reference frame\n",
    "* e: Eccentricity\n",
    "* a: Semi-major axis au Unit\n",
    "* q: perihelion distance au Unit\n",
    "* i: inclination; angle with respect to x-y ecliptic plane\n",
    "* tp: Time of perihelion passage TDB Unit\n",
    "* moid_ld: Earth Minimum Orbit Intersection Distance au Unit\n",
    "\n",
    "Nuestra variable objetivo es la variable PHA, que indica si un asteriode es potencialmente peligroso o no."
   ]
  },
  {
   "cell_type": "code",
   "execution_count": 4,
   "id": "067ad4e9",
   "metadata": {},
   "outputs": [
    {
     "data": {
      "text/plain": [
       "(958524, 45)"
      ]
     },
     "execution_count": 4,
     "metadata": {},
     "output_type": "execute_result"
    }
   ],
   "source": [
    "data.shape"
   ]
  },
  {
   "cell_type": "code",
   "execution_count": 5,
   "id": "cc11044d",
   "metadata": {},
   "outputs": [
    {
     "name": "stdout",
     "output_type": "stream",
     "text": [
      "<class 'pandas.core.frame.DataFrame'>\n",
      "RangeIndex: 958524 entries, 0 to 958523\n",
      "Data columns (total 45 columns):\n",
      " #   Column          Non-Null Count   Dtype  \n",
      "---  ------          --------------   -----  \n",
      " 0   id              958524 non-null  object \n",
      " 1   spkid           958524 non-null  int64  \n",
      " 2   full_name       958524 non-null  object \n",
      " 3   pdes            958524 non-null  object \n",
      " 4   name            22064 non-null   object \n",
      " 5   prefix          18 non-null      object \n",
      " 6   neo             958520 non-null  object \n",
      " 7   pha             938603 non-null  object \n",
      " 8   H               952261 non-null  float64\n",
      " 9   diameter        136209 non-null  float64\n",
      " 10  albedo          135103 non-null  float64\n",
      " 11  diameter_sigma  136081 non-null  float64\n",
      " 12  orbit_id        958524 non-null  object \n",
      " 13  epoch           958524 non-null  float64\n",
      " 14  epoch_mjd       958524 non-null  int64  \n",
      " 15  epoch_cal       958524 non-null  float64\n",
      " 16  equinox         958524 non-null  object \n",
      " 17  e               958524 non-null  float64\n",
      " 18  a               958524 non-null  float64\n",
      " 19  q               958524 non-null  float64\n",
      " 20  i               958524 non-null  float64\n",
      " 21  om              958524 non-null  float64\n",
      " 22  w               958524 non-null  float64\n",
      " 23  ma              958523 non-null  float64\n",
      " 24  ad              958520 non-null  float64\n",
      " 25  n               958524 non-null  float64\n",
      " 26  tp              958524 non-null  float64\n",
      " 27  tp_cal          958524 non-null  float64\n",
      " 28  per             958520 non-null  float64\n",
      " 29  per_y           958523 non-null  float64\n",
      " 30  moid            938603 non-null  float64\n",
      " 31  moid_ld         958397 non-null  float64\n",
      " 32  sigma_e         938602 non-null  float64\n",
      " 33  sigma_a         938602 non-null  float64\n",
      " 34  sigma_q         938602 non-null  float64\n",
      " 35  sigma_i         938602 non-null  float64\n",
      " 36  sigma_om        938602 non-null  float64\n",
      " 37  sigma_w         938602 non-null  float64\n",
      " 38  sigma_ma        938602 non-null  float64\n",
      " 39  sigma_ad        938598 non-null  float64\n",
      " 40  sigma_n         938602 non-null  float64\n",
      " 41  sigma_tp        938602 non-null  float64\n",
      " 42  sigma_per       938598 non-null  float64\n",
      " 43  class           958524 non-null  object \n",
      " 44  rms             958522 non-null  float64\n",
      "dtypes: float64(33), int64(2), object(10)\n",
      "memory usage: 329.1+ MB\n"
     ]
    }
   ],
   "source": [
    "data.info()"
   ]
  },
  {
   "cell_type": "markdown",
   "id": "4688f11b",
   "metadata": {},
   "source": [
    "Veamos nuestra variable objetivo."
   ]
  },
  {
   "cell_type": "code",
   "execution_count": 6,
   "id": "d8ba184a",
   "metadata": {},
   "outputs": [
    {
     "data": {
      "text/plain": [
       "N    0.997799\n",
       "Y    0.002201\n",
       "Name: pha, dtype: float64"
      ]
     },
     "execution_count": 6,
     "metadata": {},
     "output_type": "execute_result"
    }
   ],
   "source": [
    "data['pha'].value_counts(normalize=True)"
   ]
  },
  {
   "cell_type": "markdown",
   "id": "25a25dc8",
   "metadata": {},
   "source": [
    "Como podemos ver, los datos de nuestra variable objetivo están muy poco balanceados."
   ]
  },
  {
   "cell_type": "markdown",
   "id": "8a1e48d9",
   "metadata": {},
   "source": [
    "Veamos cómo se distribuyen los valores dentro de cada una de las variables."
   ]
  },
  {
   "cell_type": "code",
   "execution_count": 7,
   "id": "087f254c",
   "metadata": {},
   "outputs": [
    {
     "data": {
      "text/html": [
       "<div>\n",
       "<style scoped>\n",
       "    .dataframe tbody tr th:only-of-type {\n",
       "        vertical-align: middle;\n",
       "    }\n",
       "\n",
       "    .dataframe tbody tr th {\n",
       "        vertical-align: top;\n",
       "    }\n",
       "\n",
       "    .dataframe thead th {\n",
       "        text-align: right;\n",
       "    }\n",
       "</style>\n",
       "<table border=\"1\" class=\"dataframe\">\n",
       "  <thead>\n",
       "    <tr style=\"text-align: right;\">\n",
       "      <th></th>\n",
       "      <th>Unique Values</th>\n",
       "    </tr>\n",
       "    <tr>\n",
       "      <th>Variable</th>\n",
       "      <th></th>\n",
       "    </tr>\n",
       "  </thead>\n",
       "  <tbody>\n",
       "    <tr>\n",
       "      <th>id</th>\n",
       "      <td>958524</td>\n",
       "    </tr>\n",
       "    <tr>\n",
       "      <th>spkid</th>\n",
       "      <td>958524</td>\n",
       "    </tr>\n",
       "    <tr>\n",
       "      <th>full_name</th>\n",
       "      <td>958524</td>\n",
       "    </tr>\n",
       "    <tr>\n",
       "      <th>pdes</th>\n",
       "      <td>958524</td>\n",
       "    </tr>\n",
       "    <tr>\n",
       "      <th>name</th>\n",
       "      <td>22065</td>\n",
       "    </tr>\n",
       "    <tr>\n",
       "      <th>prefix</th>\n",
       "      <td>2</td>\n",
       "    </tr>\n",
       "    <tr>\n",
       "      <th>neo</th>\n",
       "      <td>3</td>\n",
       "    </tr>\n",
       "    <tr>\n",
       "      <th>pha</th>\n",
       "      <td>3</td>\n",
       "    </tr>\n",
       "    <tr>\n",
       "      <th>H</th>\n",
       "      <td>9490</td>\n",
       "    </tr>\n",
       "    <tr>\n",
       "      <th>diameter</th>\n",
       "      <td>16592</td>\n",
       "    </tr>\n",
       "    <tr>\n",
       "      <th>albedo</th>\n",
       "      <td>1058</td>\n",
       "    </tr>\n",
       "    <tr>\n",
       "      <th>diameter_sigma</th>\n",
       "      <td>3055</td>\n",
       "    </tr>\n",
       "    <tr>\n",
       "      <th>orbit_id</th>\n",
       "      <td>4690</td>\n",
       "    </tr>\n",
       "    <tr>\n",
       "      <th>epoch</th>\n",
       "      <td>5246</td>\n",
       "    </tr>\n",
       "    <tr>\n",
       "      <th>epoch_mjd</th>\n",
       "      <td>5246</td>\n",
       "    </tr>\n",
       "    <tr>\n",
       "      <th>epoch_cal</th>\n",
       "      <td>5246</td>\n",
       "    </tr>\n",
       "    <tr>\n",
       "      <th>equinox</th>\n",
       "      <td>1</td>\n",
       "    </tr>\n",
       "    <tr>\n",
       "      <th>e</th>\n",
       "      <td>958444</td>\n",
       "    </tr>\n",
       "    <tr>\n",
       "      <th>a</th>\n",
       "      <td>958509</td>\n",
       "    </tr>\n",
       "    <tr>\n",
       "      <th>q</th>\n",
       "      <td>958509</td>\n",
       "    </tr>\n",
       "    <tr>\n",
       "      <th>i</th>\n",
       "      <td>958414</td>\n",
       "    </tr>\n",
       "    <tr>\n",
       "      <th>om</th>\n",
       "      <td>958518</td>\n",
       "    </tr>\n",
       "    <tr>\n",
       "      <th>w</th>\n",
       "      <td>958519</td>\n",
       "    </tr>\n",
       "    <tr>\n",
       "      <th>ma</th>\n",
       "      <td>958520</td>\n",
       "    </tr>\n",
       "    <tr>\n",
       "      <th>ad</th>\n",
       "      <td>958506</td>\n",
       "    </tr>\n",
       "    <tr>\n",
       "      <th>n</th>\n",
       "      <td>958514</td>\n",
       "    </tr>\n",
       "    <tr>\n",
       "      <th>tp</th>\n",
       "      <td>958519</td>\n",
       "    </tr>\n",
       "    <tr>\n",
       "      <th>tp_cal</th>\n",
       "      <td>958499</td>\n",
       "    </tr>\n",
       "    <tr>\n",
       "      <th>per</th>\n",
       "      <td>958511</td>\n",
       "    </tr>\n",
       "    <tr>\n",
       "      <th>per_y</th>\n",
       "      <td>958512</td>\n",
       "    </tr>\n",
       "    <tr>\n",
       "      <th>moid</th>\n",
       "      <td>314301</td>\n",
       "    </tr>\n",
       "    <tr>\n",
       "      <th>moid_ld</th>\n",
       "      <td>314302</td>\n",
       "    </tr>\n",
       "    <tr>\n",
       "      <th>sigma_e</th>\n",
       "      <td>254741</td>\n",
       "    </tr>\n",
       "    <tr>\n",
       "      <th>sigma_a</th>\n",
       "      <td>273298</td>\n",
       "    </tr>\n",
       "    <tr>\n",
       "      <th>sigma_q</th>\n",
       "      <td>248139</td>\n",
       "    </tr>\n",
       "    <tr>\n",
       "      <th>sigma_i</th>\n",
       "      <td>215742</td>\n",
       "    </tr>\n",
       "    <tr>\n",
       "      <th>sigma_om</th>\n",
       "      <td>223156</td>\n",
       "    </tr>\n",
       "    <tr>\n",
       "      <th>sigma_w</th>\n",
       "      <td>262720</td>\n",
       "    </tr>\n",
       "    <tr>\n",
       "      <th>sigma_ma</th>\n",
       "      <td>266817</td>\n",
       "    </tr>\n",
       "    <tr>\n",
       "      <th>sigma_ad</th>\n",
       "      <td>269242</td>\n",
       "    </tr>\n",
       "    <tr>\n",
       "      <th>sigma_n</th>\n",
       "      <td>251751</td>\n",
       "    </tr>\n",
       "    <tr>\n",
       "      <th>sigma_tp</th>\n",
       "      <td>291247</td>\n",
       "    </tr>\n",
       "    <tr>\n",
       "      <th>sigma_per</th>\n",
       "      <td>282688</td>\n",
       "    </tr>\n",
       "    <tr>\n",
       "      <th>class</th>\n",
       "      <td>13</td>\n",
       "    </tr>\n",
       "    <tr>\n",
       "      <th>rms</th>\n",
       "      <td>64387</td>\n",
       "    </tr>\n",
       "  </tbody>\n",
       "</table>\n",
       "</div>"
      ],
      "text/plain": [
       "                Unique Values\n",
       "Variable                     \n",
       "id                     958524\n",
       "spkid                  958524\n",
       "full_name              958524\n",
       "pdes                   958524\n",
       "name                    22065\n",
       "prefix                      2\n",
       "neo                         3\n",
       "pha                         3\n",
       "H                        9490\n",
       "diameter                16592\n",
       "albedo                   1058\n",
       "diameter_sigma           3055\n",
       "orbit_id                 4690\n",
       "epoch                    5246\n",
       "epoch_mjd                5246\n",
       "epoch_cal                5246\n",
       "equinox                     1\n",
       "e                      958444\n",
       "a                      958509\n",
       "q                      958509\n",
       "i                      958414\n",
       "om                     958518\n",
       "w                      958519\n",
       "ma                     958520\n",
       "ad                     958506\n",
       "n                      958514\n",
       "tp                     958519\n",
       "tp_cal                 958499\n",
       "per                    958511\n",
       "per_y                  958512\n",
       "moid                   314301\n",
       "moid_ld                314302\n",
       "sigma_e                254741\n",
       "sigma_a                273298\n",
       "sigma_q                248139\n",
       "sigma_i                215742\n",
       "sigma_om               223156\n",
       "sigma_w                262720\n",
       "sigma_ma               266817\n",
       "sigma_ad               269242\n",
       "sigma_n                251751\n",
       "sigma_tp               291247\n",
       "sigma_per              282688\n",
       "class                      13\n",
       "rms                     64387"
      ]
     },
     "execution_count": 7,
     "metadata": {},
     "output_type": "execute_result"
    }
   ],
   "source": [
    "pd.DataFrame([[i, len(data[i].unique())] for i in data.columns],\n",
    "             columns=['Variable', 'Unique Values']).set_index('Variable')"
   ]
  },
  {
   "cell_type": "markdown",
   "id": "6b9c1427",
   "metadata": {},
   "source": [
    "**2. LIMPIEZA DE DATOS**\n",
    "\n",
    "Eliminemos algunas columnas que no aportarán ningún tipo de información."
   ]
  },
  {
   "cell_type": "code",
   "execution_count": 8,
   "id": "20c724a8",
   "metadata": {},
   "outputs": [],
   "source": [
    "data1 = data.drop(['id','full_name', 'pdes', 'name', 'prefix', 'equinox'], axis='columns', inplace=False)"
   ]
  },
  {
   "cell_type": "markdown",
   "id": "da3f5257",
   "metadata": {},
   "source": [
    "Veamos a continuación los datos perdidos dentro de nuestra dataframe."
   ]
  },
  {
   "cell_type": "code",
   "execution_count": 9,
   "id": "fb2a0ff3",
   "metadata": {},
   "outputs": [],
   "source": [
    "num_missing = data.isnull().sum()\n",
    "pctg_missing = data.isnull().sum().apply(lambda x: x/data.shape[0]*100)"
   ]
  },
  {
   "cell_type": "code",
   "execution_count": 10,
   "id": "941616c5",
   "metadata": {},
   "outputs": [
    {
     "data": {
      "text/plain": [
       "prefix            99.998122\n",
       "name              97.698128\n",
       "albedo            85.905100\n",
       "diameter_sigma    85.803068\n",
       "diameter          85.789714\n",
       "sigma_ad           2.078821\n",
       "sigma_per          2.078821\n",
       "sigma_e            2.078404\n",
       "sigma_a            2.078404\n",
       "sigma_q            2.078404\n",
       "sigma_i            2.078404\n",
       "sigma_om           2.078404\n",
       "sigma_w            2.078404\n",
       "sigma_ma           2.078404\n",
       "sigma_n            2.078404\n",
       "sigma_tp           2.078404\n",
       "pha                2.078300\n",
       "moid               2.078300\n",
       "H                  0.653400\n",
       "moid_ld            0.013250\n",
       "per                0.000417\n",
       "ad                 0.000417\n",
       "neo                0.000417\n",
       "rms                0.000209\n",
       "ma                 0.000104\n",
       "per_y              0.000104\n",
       "class              0.000000\n",
       "id                 0.000000\n",
       "tp_cal             0.000000\n",
       "equinox            0.000000\n",
       "full_name          0.000000\n",
       "pdes               0.000000\n",
       "orbit_id           0.000000\n",
       "epoch              0.000000\n",
       "epoch_mjd          0.000000\n",
       "epoch_cal          0.000000\n",
       "e                  0.000000\n",
       "tp                 0.000000\n",
       "a                  0.000000\n",
       "q                  0.000000\n",
       "i                  0.000000\n",
       "om                 0.000000\n",
       "spkid              0.000000\n",
       "n                  0.000000\n",
       "w                  0.000000\n",
       "Name: Percentage of Missing, dtype: float64"
      ]
     },
     "execution_count": 10,
     "metadata": {},
     "output_type": "execute_result"
    }
   ],
   "source": [
    "missing_data = pd.DataFrame({'Number of Missing':  num_missing,\n",
    "                             'Percentage of Missing': pctg_missing})\n",
    "\n",
    "missing_data['Percentage of Missing'].sort_values(ascending = False)"
   ]
  },
  {
   "cell_type": "markdown",
   "id": "8d1e5b14",
   "metadata": {},
   "source": [
    "Como podemos ver hay cinco variables con valores perdidos por encima del 80%. Estas variables no pueden ser calculadas ni sustituidas, por lo que pueden ser eliminadas."
   ]
  },
  {
   "cell_type": "code",
   "execution_count": 11,
   "id": "0760c776",
   "metadata": {},
   "outputs": [],
   "source": [
    "asteroid_df = data1[data1['pha'].notna()]\n",
    "asteroid_df = asteroid_df.drop(['diameter', 'albedo', 'diameter_sigma'], axis= 'columns')"
   ]
  },
  {
   "cell_type": "code",
   "execution_count": 12,
   "id": "96af2e99",
   "metadata": {},
   "outputs": [],
   "source": [
    "asteroid_df = asteroid_df[asteroid_df['H'].notna()]\n",
    "asteroid_df = asteroid_df[asteroid_df['sigma_ad'].notna()]\n",
    "asteroid_df = asteroid_df[asteroid_df['ma'].notna()]"
   ]
  },
  {
   "cell_type": "code",
   "execution_count": 13,
   "id": "dd81958b",
   "metadata": {},
   "outputs": [
    {
     "data": {
      "text/plain": [
       "spkid        0\n",
       "neo          0\n",
       "pha          0\n",
       "H            0\n",
       "orbit_id     0\n",
       "epoch        0\n",
       "epoch_mjd    0\n",
       "epoch_cal    0\n",
       "e            0\n",
       "a            0\n",
       "q            0\n",
       "i            0\n",
       "om           0\n",
       "w            0\n",
       "ma           0\n",
       "ad           0\n",
       "n            0\n",
       "tp           0\n",
       "tp_cal       0\n",
       "per          0\n",
       "per_y        0\n",
       "moid         0\n",
       "moid_ld      0\n",
       "sigma_e      0\n",
       "sigma_a      0\n",
       "sigma_q      0\n",
       "sigma_i      0\n",
       "sigma_om     0\n",
       "sigma_w      0\n",
       "sigma_ma     0\n",
       "sigma_ad     0\n",
       "sigma_n      0\n",
       "sigma_tp     0\n",
       "sigma_per    0\n",
       "class        0\n",
       "rms          0\n",
       "dtype: int64"
      ]
     },
     "execution_count": 13,
     "metadata": {},
     "output_type": "execute_result"
    }
   ],
   "source": [
    "asteroid_df.isnull().sum()"
   ]
  },
  {
   "cell_type": "markdown",
   "id": "061650d5",
   "metadata": {},
   "source": [
    "Como podemos ver, ya no tenemos valores nulos en nuestro dataframe."
   ]
  },
  {
   "cell_type": "markdown",
   "id": "3453ffda",
   "metadata": {},
   "source": [
    "Algunas columnas presentan valores que no pueden ser procesados dentro de un modelo de machine learning. Estas variables tienen que ser convertidas a variables categóricas."
   ]
  },
  {
   "cell_type": "code",
   "execution_count": 14,
   "id": "114dca50",
   "metadata": {},
   "outputs": [],
   "source": [
    "asteroid_df['neo'] = asteroid_df['neo'].astype('category')\n",
    "asteroid_df['pha'] = asteroid_df['pha'].astype('category')\n",
    "asteroid_df['class'] = asteroid_df['class'].astype('category')"
   ]
  },
  {
   "cell_type": "code",
   "execution_count": 15,
   "id": "40baec8a",
   "metadata": {},
   "outputs": [],
   "source": [
    "orbits = asteroid_df['orbit_id'].value_counts().loc[lambda x: x<10].index.to_list()"
   ]
  },
  {
   "cell_type": "code",
   "execution_count": 16,
   "id": "aaf1bf68",
   "metadata": {},
   "outputs": [],
   "source": [
    "asteroid_df.loc[asteroid_df['orbit_id'].isin(orbits), 'orbit_id'] = 'other'"
   ]
  },
  {
   "cell_type": "markdown",
   "id": "a6d171fd",
   "metadata": {},
   "source": [
    "Observemos la correlación entre las distintas variables."
   ]
  },
  {
   "cell_type": "code",
   "execution_count": 61,
   "id": "e7264ca9",
   "metadata": {},
   "outputs": [
    {
     "data": {
      "text/plain": [
       "<AxesSubplot:>"
      ]
     },
     "execution_count": 61,
     "metadata": {},
     "output_type": "execute_result"
    },
    {
     "data": {
      "image/png": "[encoded data removed]",
      "text/plain": [
       "<Figure size 2160x1080 with 2 Axes>"
      ]
     },
     "metadata": {
      "needs_background": "light"
     },
     "output_type": "display_data"
    }
   ],
   "source": [
    "plt.figure(figsize = (30, 15))\n",
    "sns.heatmap(asteroid_df.corr(), annot = False, linewidths=.5, cmap = plt.cm.cool)"
   ]
  },
  {
   "cell_type": "markdown",
   "id": "e5c8282c",
   "metadata": {},
   "source": [
    "Antes de hecer pasar nuestro dataframe por el modelo, es necesario escalar las variables numéricas. Para ello utilizaremos la función MinMaxScaler."
   ]
  },
  {
   "cell_type": "code",
   "execution_count": 17,
   "id": "843d8165",
   "metadata": {},
   "outputs": [],
   "source": [
    "asteroid_df = asteroid_df.reset_index(drop=True)#Reseteamos el índice"
   ]
  },
  {
   "cell_type": "code",
   "execution_count": 18,
   "id": "09dcd470",
   "metadata": {},
   "outputs": [],
   "source": [
    "#creamos un subset con las variables numericas\n",
    "subset_df = asteroid_df[asteroid_df.columns[~asteroid_df.columns.isin(['spkid', 'full_name', 'neo', 'pha', 'orbit_id', 'class'])]]"
   ]
  },
  {
   "cell_type": "code",
   "execution_count": 19,
   "id": "204e04d5",
   "metadata": {},
   "outputs": [
    {
     "data": {
      "text/html": [
       "<div>\n",
       "<style scoped>\n",
       "    .dataframe tbody tr th:only-of-type {\n",
       "        vertical-align: middle;\n",
       "    }\n",
       "\n",
       "    .dataframe tbody tr th {\n",
       "        vertical-align: top;\n",
       "    }\n",
       "\n",
       "    .dataframe thead th {\n",
       "        text-align: right;\n",
       "    }\n",
       "</style>\n",
       "<table border=\"1\" class=\"dataframe\">\n",
       "  <thead>\n",
       "    <tr style=\"text-align: right;\">\n",
       "      <th></th>\n",
       "      <th>H</th>\n",
       "      <th>epoch</th>\n",
       "      <th>epoch_mjd</th>\n",
       "      <th>epoch_cal</th>\n",
       "      <th>e</th>\n",
       "      <th>a</th>\n",
       "      <th>q</th>\n",
       "      <th>i</th>\n",
       "      <th>om</th>\n",
       "      <th>w</th>\n",
       "      <th>...</th>\n",
       "      <th>sigma_q</th>\n",
       "      <th>sigma_i</th>\n",
       "      <th>sigma_om</th>\n",
       "      <th>sigma_w</th>\n",
       "      <th>sigma_ma</th>\n",
       "      <th>sigma_ad</th>\n",
       "      <th>sigma_n</th>\n",
       "      <th>sigma_tp</th>\n",
       "      <th>sigma_per</th>\n",
       "      <th>rms</th>\n",
       "    </tr>\n",
       "  </thead>\n",
       "  <tbody>\n",
       "    <tr>\n",
       "      <th>0</th>\n",
       "      <td>0.131195</td>\n",
       "      <td>0.988218</td>\n",
       "      <td>0.988218</td>\n",
       "      <td>0.989134</td>\n",
       "      <td>0.076017</td>\n",
       "      <td>0.000066</td>\n",
       "      <td>0.030975</td>\n",
       "      <td>0.060467</td>\n",
       "      <td>0.223071</td>\n",
       "      <td>0.204438</td>\n",
       "      <td>...</td>\n",
       "      <td>0.000000e+00</td>\n",
       "      <td>0.000000e+00</td>\n",
       "      <td>0.000000e+00</td>\n",
       "      <td>0.000000e+00</td>\n",
       "      <td>0.000000e+00</td>\n",
       "      <td>0.000000e+00</td>\n",
       "      <td>0.000000e+00</td>\n",
       "      <td>0.000000e+00</td>\n",
       "      <td>0.000000e+00</td>\n",
       "      <td>0.000161</td>\n",
       "    </tr>\n",
       "    <tr>\n",
       "      <th>1</th>\n",
       "      <td>0.154519</td>\n",
       "      <td>1.000000</td>\n",
       "      <td>1.000000</td>\n",
       "      <td>1.000000</td>\n",
       "      <td>0.230004</td>\n",
       "      <td>0.000066</td>\n",
       "      <td>0.025712</td>\n",
       "      <td>0.198916</td>\n",
       "      <td>0.480625</td>\n",
       "      <td>0.861674</td>\n",
       "      <td>...</td>\n",
       "      <td>8.699747e-14</td>\n",
       "      <td>6.262048e-11</td>\n",
       "      <td>5.179478e-12</td>\n",
       "      <td>2.713159e-16</td>\n",
       "      <td>2.650639e-16</td>\n",
       "      <td>8.984495e-16</td>\n",
       "      <td>6.029037e-14</td>\n",
       "      <td>3.912546e-18</td>\n",
       "      <td>1.921434e-16</td>\n",
       "      <td>0.000134</td>\n",
       "    </tr>\n",
       "    <tr>\n",
       "      <th>2</th>\n",
       "      <td>0.187464</td>\n",
       "      <td>1.000000</td>\n",
       "      <td>1.000000</td>\n",
       "      <td>1.000000</td>\n",
       "      <td>0.256972</td>\n",
       "      <td>0.000063</td>\n",
       "      <td>0.023805</td>\n",
       "      <td>0.074158</td>\n",
       "      <td>0.471810</td>\n",
       "      <td>0.689073</td>\n",
       "      <td>...</td>\n",
       "      <td>8.016988e-14</td>\n",
       "      <td>5.816901e-11</td>\n",
       "      <td>1.383063e-11</td>\n",
       "      <td>5.285854e-16</td>\n",
       "      <td>2.426430e-16</td>\n",
       "      <td>7.900225e-16</td>\n",
       "      <td>5.717040e-14</td>\n",
       "      <td>3.384558e-18</td>\n",
       "      <td>1.621282e-16</td>\n",
       "      <td>0.000126</td>\n",
       "    </tr>\n",
       "    <tr>\n",
       "      <th>3</th>\n",
       "      <td>0.119534</td>\n",
       "      <td>0.988218</td>\n",
       "      <td>0.988218</td>\n",
       "      <td>0.989134</td>\n",
       "      <td>0.088732</td>\n",
       "      <td>0.000054</td>\n",
       "      <td>0.025911</td>\n",
       "      <td>0.040748</td>\n",
       "      <td>0.288363</td>\n",
       "      <td>0.418691</td>\n",
       "      <td>...</td>\n",
       "      <td>1.880819e-15</td>\n",
       "      <td>3.839709e-12</td>\n",
       "      <td>2.721975e-13</td>\n",
       "      <td>3.373713e-18</td>\n",
       "      <td>3.590511e-17</td>\n",
       "      <td>2.972008e-16</td>\n",
       "      <td>3.377845e-14</td>\n",
       "      <td>3.903861e-19</td>\n",
       "      <td>6.623144e-17</td>\n",
       "      <td>0.000149</td>\n",
       "    </tr>\n",
       "    <tr>\n",
       "      <th>4</th>\n",
       "      <td>0.233236</td>\n",
       "      <td>1.000000</td>\n",
       "      <td>1.000000</td>\n",
       "      <td>1.000000</td>\n",
       "      <td>0.190939</td>\n",
       "      <td>0.000060</td>\n",
       "      <td>0.025049</td>\n",
       "      <td>0.030614</td>\n",
       "      <td>0.393253</td>\n",
       "      <td>0.996247</td>\n",
       "      <td>...</td>\n",
       "      <td>6.000437e-14</td>\n",
       "      <td>4.945222e-11</td>\n",
       "      <td>2.409083e-11</td>\n",
       "      <td>8.914896e-16</td>\n",
       "      <td>2.484347e-16</td>\n",
       "      <td>8.562875e-16</td>\n",
       "      <td>7.157914e-14</td>\n",
       "      <td>3.332230e-18</td>\n",
       "      <td>1.821889e-16</td>\n",
       "      <td>0.000194</td>\n",
       "    </tr>\n",
       "  </tbody>\n",
       "</table>\n",
       "<p>5 rows × 31 columns</p>\n",
       "</div>"
      ],
      "text/plain": [
       "          H     epoch  epoch_mjd  epoch_cal         e         a         q  \\\n",
       "0  0.131195  0.988218   0.988218   0.989134  0.076017  0.000066  0.030975   \n",
       "1  0.154519  1.000000   1.000000   1.000000  0.230004  0.000066  0.025712   \n",
       "2  0.187464  1.000000   1.000000   1.000000  0.256972  0.000063  0.023805   \n",
       "3  0.119534  0.988218   0.988218   0.989134  0.088732  0.000054  0.025911   \n",
       "4  0.233236  1.000000   1.000000   1.000000  0.190939  0.000060  0.025049   \n",
       "\n",
       "          i        om         w  ...       sigma_q       sigma_i  \\\n",
       "0  0.060467  0.223071  0.204438  ...  0.000000e+00  0.000000e+00   \n",
       "1  0.198916  0.480625  0.861674  ...  8.699747e-14  6.262048e-11   \n",
       "2  0.074158  0.471810  0.689073  ...  8.016988e-14  5.816901e-11   \n",
       "3  0.040748  0.288363  0.418691  ...  1.880819e-15  3.839709e-12   \n",
       "4  0.030614  0.393253  0.996247  ...  6.000437e-14  4.945222e-11   \n",
       "\n",
       "       sigma_om       sigma_w      sigma_ma      sigma_ad       sigma_n  \\\n",
       "0  0.000000e+00  0.000000e+00  0.000000e+00  0.000000e+00  0.000000e+00   \n",
       "1  5.179478e-12  2.713159e-16  2.650639e-16  8.984495e-16  6.029037e-14   \n",
       "2  1.383063e-11  5.285854e-16  2.426430e-16  7.900225e-16  5.717040e-14   \n",
       "3  2.721975e-13  3.373713e-18  3.590511e-17  2.972008e-16  3.377845e-14   \n",
       "4  2.409083e-11  8.914896e-16  2.484347e-16  8.562875e-16  7.157914e-14   \n",
       "\n",
       "       sigma_tp     sigma_per       rms  \n",
       "0  0.000000e+00  0.000000e+00  0.000161  \n",
       "1  3.912546e-18  1.921434e-16  0.000134  \n",
       "2  3.384558e-18  1.621282e-16  0.000126  \n",
       "3  3.903861e-19  6.623144e-17  0.000149  \n",
       "4  3.332230e-18  1.821889e-16  0.000194  \n",
       "\n",
       "[5 rows x 31 columns]"
      ]
     },
     "execution_count": 19,
     "metadata": {},
     "output_type": "execute_result"
    }
   ],
   "source": [
    "scaler = MinMaxScaler()\n",
    "scaled_df = scaler.fit_transform(subset_df)\n",
    "scaled_df = pd.DataFrame(scaled_df, columns = subset_df.columns)\n",
    "asteroid_df = pd.concat([asteroid_df[['spkid', 'neo', 'pha', 'orbit_id', 'class']],scaled_df], axis=1)\n",
    "scaled_df.head()\n"
   ]
  },
  {
   "cell_type": "markdown",
   "id": "d9eba198",
   "metadata": {},
   "source": [
    "Por último, necesitamos transformar las variables categóricas en variables codificadas. Para ello usaremos la función get_dummies"
   ]
  },
  {
   "cell_type": "code",
   "execution_count": 20,
   "id": "0ee53f35",
   "metadata": {},
   "outputs": [
    {
     "data": {
      "text/html": [
       "<div>\n",
       "<style scoped>\n",
       "    .dataframe tbody tr th:only-of-type {\n",
       "        vertical-align: middle;\n",
       "    }\n",
       "\n",
       "    .dataframe tbody tr th {\n",
       "        vertical-align: top;\n",
       "    }\n",
       "\n",
       "    .dataframe thead th {\n",
       "        text-align: right;\n",
       "    }\n",
       "</style>\n",
       "<table border=\"1\" class=\"dataframe\">\n",
       "  <thead>\n",
       "    <tr style=\"text-align: right;\">\n",
       "      <th></th>\n",
       "      <th>spkid</th>\n",
       "      <th>pha</th>\n",
       "      <th>H</th>\n",
       "      <th>epoch</th>\n",
       "      <th>epoch_mjd</th>\n",
       "      <th>epoch_cal</th>\n",
       "      <th>e</th>\n",
       "      <th>a</th>\n",
       "      <th>q</th>\n",
       "      <th>i</th>\n",
       "      <th>...</th>\n",
       "      <th>orbit_id_JPL 86</th>\n",
       "      <th>orbit_id_JPL 87</th>\n",
       "      <th>orbit_id_JPL 9</th>\n",
       "      <th>orbit_id_JPL 91</th>\n",
       "      <th>orbit_id_JPL 94</th>\n",
       "      <th>orbit_id_JPL 96</th>\n",
       "      <th>orbit_id_JPL 97</th>\n",
       "      <th>orbit_id_JPL 98</th>\n",
       "      <th>orbit_id_JPL 99</th>\n",
       "      <th>orbit_id_other</th>\n",
       "    </tr>\n",
       "  </thead>\n",
       "  <tbody>\n",
       "    <tr>\n",
       "      <th>0</th>\n",
       "      <td>2000001</td>\n",
       "      <td>N</td>\n",
       "      <td>0.131195</td>\n",
       "      <td>0.988218</td>\n",
       "      <td>0.988218</td>\n",
       "      <td>0.989134</td>\n",
       "      <td>0.076017</td>\n",
       "      <td>0.000066</td>\n",
       "      <td>0.030975</td>\n",
       "      <td>0.060467</td>\n",
       "      <td>...</td>\n",
       "      <td>0</td>\n",
       "      <td>0</td>\n",
       "      <td>0</td>\n",
       "      <td>0</td>\n",
       "      <td>0</td>\n",
       "      <td>0</td>\n",
       "      <td>0</td>\n",
       "      <td>0</td>\n",
       "      <td>0</td>\n",
       "      <td>0</td>\n",
       "    </tr>\n",
       "    <tr>\n",
       "      <th>1</th>\n",
       "      <td>2000002</td>\n",
       "      <td>N</td>\n",
       "      <td>0.154519</td>\n",
       "      <td>1.000000</td>\n",
       "      <td>1.000000</td>\n",
       "      <td>1.000000</td>\n",
       "      <td>0.230004</td>\n",
       "      <td>0.000066</td>\n",
       "      <td>0.025712</td>\n",
       "      <td>0.198916</td>\n",
       "      <td>...</td>\n",
       "      <td>0</td>\n",
       "      <td>0</td>\n",
       "      <td>0</td>\n",
       "      <td>0</td>\n",
       "      <td>0</td>\n",
       "      <td>0</td>\n",
       "      <td>0</td>\n",
       "      <td>0</td>\n",
       "      <td>0</td>\n",
       "      <td>0</td>\n",
       "    </tr>\n",
       "    <tr>\n",
       "      <th>2</th>\n",
       "      <td>2000003</td>\n",
       "      <td>N</td>\n",
       "      <td>0.187464</td>\n",
       "      <td>1.000000</td>\n",
       "      <td>1.000000</td>\n",
       "      <td>1.000000</td>\n",
       "      <td>0.256972</td>\n",
       "      <td>0.000063</td>\n",
       "      <td>0.023805</td>\n",
       "      <td>0.074158</td>\n",
       "      <td>...</td>\n",
       "      <td>0</td>\n",
       "      <td>0</td>\n",
       "      <td>0</td>\n",
       "      <td>0</td>\n",
       "      <td>0</td>\n",
       "      <td>0</td>\n",
       "      <td>0</td>\n",
       "      <td>0</td>\n",
       "      <td>0</td>\n",
       "      <td>1</td>\n",
       "    </tr>\n",
       "    <tr>\n",
       "      <th>3</th>\n",
       "      <td>2000004</td>\n",
       "      <td>N</td>\n",
       "      <td>0.119534</td>\n",
       "      <td>0.988218</td>\n",
       "      <td>0.988218</td>\n",
       "      <td>0.989134</td>\n",
       "      <td>0.088732</td>\n",
       "      <td>0.000054</td>\n",
       "      <td>0.025911</td>\n",
       "      <td>0.040748</td>\n",
       "      <td>...</td>\n",
       "      <td>0</td>\n",
       "      <td>0</td>\n",
       "      <td>0</td>\n",
       "      <td>0</td>\n",
       "      <td>0</td>\n",
       "      <td>0</td>\n",
       "      <td>0</td>\n",
       "      <td>0</td>\n",
       "      <td>0</td>\n",
       "      <td>0</td>\n",
       "    </tr>\n",
       "    <tr>\n",
       "      <th>4</th>\n",
       "      <td>2000005</td>\n",
       "      <td>N</td>\n",
       "      <td>0.233236</td>\n",
       "      <td>1.000000</td>\n",
       "      <td>1.000000</td>\n",
       "      <td>1.000000</td>\n",
       "      <td>0.190939</td>\n",
       "      <td>0.000060</td>\n",
       "      <td>0.025049</td>\n",
       "      <td>0.030614</td>\n",
       "      <td>...</td>\n",
       "      <td>0</td>\n",
       "      <td>0</td>\n",
       "      <td>0</td>\n",
       "      <td>0</td>\n",
       "      <td>0</td>\n",
       "      <td>0</td>\n",
       "      <td>0</td>\n",
       "      <td>0</td>\n",
       "      <td>0</td>\n",
       "      <td>1</td>\n",
       "    </tr>\n",
       "  </tbody>\n",
       "</table>\n",
       "<p>5 rows × 242 columns</p>\n",
       "</div>"
      ],
      "text/plain": [
       "     spkid pha         H     epoch  epoch_mjd  epoch_cal         e         a  \\\n",
       "0  2000001   N  0.131195  0.988218   0.988218   0.989134  0.076017  0.000066   \n",
       "1  2000002   N  0.154519  1.000000   1.000000   1.000000  0.230004  0.000066   \n",
       "2  2000003   N  0.187464  1.000000   1.000000   1.000000  0.256972  0.000063   \n",
       "3  2000004   N  0.119534  0.988218   0.988218   0.989134  0.088732  0.000054   \n",
       "4  2000005   N  0.233236  1.000000   1.000000   1.000000  0.190939  0.000060   \n",
       "\n",
       "          q         i  ...  orbit_id_JPL 86  orbit_id_JPL 87  orbit_id_JPL 9  \\\n",
       "0  0.030975  0.060467  ...                0                0               0   \n",
       "1  0.025712  0.198916  ...                0                0               0   \n",
       "2  0.023805  0.074158  ...                0                0               0   \n",
       "3  0.025911  0.040748  ...                0                0               0   \n",
       "4  0.025049  0.030614  ...                0                0               0   \n",
       "\n",
       "   orbit_id_JPL 91  orbit_id_JPL 94  orbit_id_JPL 96  orbit_id_JPL 97  \\\n",
       "0                0                0                0                0   \n",
       "1                0                0                0                0   \n",
       "2                0                0                0                0   \n",
       "3                0                0                0                0   \n",
       "4                0                0                0                0   \n",
       "\n",
       "   orbit_id_JPL 98  orbit_id_JPL 99  orbit_id_other  \n",
       "0                0                0               0  \n",
       "1                0                0               0  \n",
       "2                0                0               1  \n",
       "3                0                0               0  \n",
       "4                0                0               1  \n",
       "\n",
       "[5 rows x 242 columns]"
      ]
     },
     "execution_count": 20,
     "metadata": {},
     "output_type": "execute_result"
    }
   ],
   "source": [
    "asteroid_df1 = pd.get_dummies(asteroid_df, columns = ['neo', 'class', 'orbit_id'])\n",
    "asteroid_df1.head()"
   ]
  },
  {
   "cell_type": "code",
   "execution_count": 21,
   "id": "53dbb6e0",
   "metadata": {},
   "outputs": [],
   "source": [
    "lb = LabelBinarizer()\n",
    "\n",
    "asteroid_df1['pha'] = lb.fit_transform(asteroid_df1['pha'])"
   ]
  },
  {
   "cell_type": "code",
   "execution_count": 22,
   "id": "c0b36532",
   "metadata": {},
   "outputs": [
    {
     "data": {
      "text/html": [
       "<div>\n",
       "<style scoped>\n",
       "    .dataframe tbody tr th:only-of-type {\n",
       "        vertical-align: middle;\n",
       "    }\n",
       "\n",
       "    .dataframe tbody tr th {\n",
       "        vertical-align: top;\n",
       "    }\n",
       "\n",
       "    .dataframe thead th {\n",
       "        text-align: right;\n",
       "    }\n",
       "</style>\n",
       "<table border=\"1\" class=\"dataframe\">\n",
       "  <thead>\n",
       "    <tr style=\"text-align: right;\">\n",
       "      <th></th>\n",
       "      <th>spkid</th>\n",
       "      <th>pha</th>\n",
       "      <th>H</th>\n",
       "      <th>epoch</th>\n",
       "      <th>epoch_mjd</th>\n",
       "      <th>epoch_cal</th>\n",
       "      <th>e</th>\n",
       "      <th>a</th>\n",
       "      <th>q</th>\n",
       "      <th>i</th>\n",
       "      <th>...</th>\n",
       "      <th>orbit_id_JPL 86</th>\n",
       "      <th>orbit_id_JPL 87</th>\n",
       "      <th>orbit_id_JPL 9</th>\n",
       "      <th>orbit_id_JPL 91</th>\n",
       "      <th>orbit_id_JPL 94</th>\n",
       "      <th>orbit_id_JPL 96</th>\n",
       "      <th>orbit_id_JPL 97</th>\n",
       "      <th>orbit_id_JPL 98</th>\n",
       "      <th>orbit_id_JPL 99</th>\n",
       "      <th>orbit_id_other</th>\n",
       "    </tr>\n",
       "  </thead>\n",
       "  <tbody>\n",
       "    <tr>\n",
       "      <th>0</th>\n",
       "      <td>2000001</td>\n",
       "      <td>0</td>\n",
       "      <td>0.131195</td>\n",
       "      <td>0.988218</td>\n",
       "      <td>0.988218</td>\n",
       "      <td>0.989134</td>\n",
       "      <td>0.076017</td>\n",
       "      <td>0.000066</td>\n",
       "      <td>0.030975</td>\n",
       "      <td>0.060467</td>\n",
       "      <td>...</td>\n",
       "      <td>0</td>\n",
       "      <td>0</td>\n",
       "      <td>0</td>\n",
       "      <td>0</td>\n",
       "      <td>0</td>\n",
       "      <td>0</td>\n",
       "      <td>0</td>\n",
       "      <td>0</td>\n",
       "      <td>0</td>\n",
       "      <td>0</td>\n",
       "    </tr>\n",
       "    <tr>\n",
       "      <th>1</th>\n",
       "      <td>2000002</td>\n",
       "      <td>0</td>\n",
       "      <td>0.154519</td>\n",
       "      <td>1.000000</td>\n",
       "      <td>1.000000</td>\n",
       "      <td>1.000000</td>\n",
       "      <td>0.230004</td>\n",
       "      <td>0.000066</td>\n",
       "      <td>0.025712</td>\n",
       "      <td>0.198916</td>\n",
       "      <td>...</td>\n",
       "      <td>0</td>\n",
       "      <td>0</td>\n",
       "      <td>0</td>\n",
       "      <td>0</td>\n",
       "      <td>0</td>\n",
       "      <td>0</td>\n",
       "      <td>0</td>\n",
       "      <td>0</td>\n",
       "      <td>0</td>\n",
       "      <td>0</td>\n",
       "    </tr>\n",
       "    <tr>\n",
       "      <th>2</th>\n",
       "      <td>2000003</td>\n",
       "      <td>0</td>\n",
       "      <td>0.187464</td>\n",
       "      <td>1.000000</td>\n",
       "      <td>1.000000</td>\n",
       "      <td>1.000000</td>\n",
       "      <td>0.256972</td>\n",
       "      <td>0.000063</td>\n",
       "      <td>0.023805</td>\n",
       "      <td>0.074158</td>\n",
       "      <td>...</td>\n",
       "      <td>0</td>\n",
       "      <td>0</td>\n",
       "      <td>0</td>\n",
       "      <td>0</td>\n",
       "      <td>0</td>\n",
       "      <td>0</td>\n",
       "      <td>0</td>\n",
       "      <td>0</td>\n",
       "      <td>0</td>\n",
       "      <td>1</td>\n",
       "    </tr>\n",
       "    <tr>\n",
       "      <th>3</th>\n",
       "      <td>2000004</td>\n",
       "      <td>0</td>\n",
       "      <td>0.119534</td>\n",
       "      <td>0.988218</td>\n",
       "      <td>0.988218</td>\n",
       "      <td>0.989134</td>\n",
       "      <td>0.088732</td>\n",
       "      <td>0.000054</td>\n",
       "      <td>0.025911</td>\n",
       "      <td>0.040748</td>\n",
       "      <td>...</td>\n",
       "      <td>0</td>\n",
       "      <td>0</td>\n",
       "      <td>0</td>\n",
       "      <td>0</td>\n",
       "      <td>0</td>\n",
       "      <td>0</td>\n",
       "      <td>0</td>\n",
       "      <td>0</td>\n",
       "      <td>0</td>\n",
       "      <td>0</td>\n",
       "    </tr>\n",
       "    <tr>\n",
       "      <th>4</th>\n",
       "      <td>2000005</td>\n",
       "      <td>0</td>\n",
       "      <td>0.233236</td>\n",
       "      <td>1.000000</td>\n",
       "      <td>1.000000</td>\n",
       "      <td>1.000000</td>\n",
       "      <td>0.190939</td>\n",
       "      <td>0.000060</td>\n",
       "      <td>0.025049</td>\n",
       "      <td>0.030614</td>\n",
       "      <td>...</td>\n",
       "      <td>0</td>\n",
       "      <td>0</td>\n",
       "      <td>0</td>\n",
       "      <td>0</td>\n",
       "      <td>0</td>\n",
       "      <td>0</td>\n",
       "      <td>0</td>\n",
       "      <td>0</td>\n",
       "      <td>0</td>\n",
       "      <td>1</td>\n",
       "    </tr>\n",
       "  </tbody>\n",
       "</table>\n",
       "<p>5 rows × 242 columns</p>\n",
       "</div>"
      ],
      "text/plain": [
       "     spkid  pha         H     epoch  epoch_mjd  epoch_cal         e         a  \\\n",
       "0  2000001    0  0.131195  0.988218   0.988218   0.989134  0.076017  0.000066   \n",
       "1  2000002    0  0.154519  1.000000   1.000000   1.000000  0.230004  0.000066   \n",
       "2  2000003    0  0.187464  1.000000   1.000000   1.000000  0.256972  0.000063   \n",
       "3  2000004    0  0.119534  0.988218   0.988218   0.989134  0.088732  0.000054   \n",
       "4  2000005    0  0.233236  1.000000   1.000000   1.000000  0.190939  0.000060   \n",
       "\n",
       "          q         i  ...  orbit_id_JPL 86  orbit_id_JPL 87  orbit_id_JPL 9  \\\n",
       "0  0.030975  0.060467  ...                0                0               0   \n",
       "1  0.025712  0.198916  ...                0                0               0   \n",
       "2  0.023805  0.074158  ...                0                0               0   \n",
       "3  0.025911  0.040748  ...                0                0               0   \n",
       "4  0.025049  0.030614  ...                0                0               0   \n",
       "\n",
       "   orbit_id_JPL 91  orbit_id_JPL 94  orbit_id_JPL 96  orbit_id_JPL 97  \\\n",
       "0                0                0                0                0   \n",
       "1                0                0                0                0   \n",
       "2                0                0                0                0   \n",
       "3                0                0                0                0   \n",
       "4                0                0                0                0   \n",
       "\n",
       "   orbit_id_JPL 98  orbit_id_JPL 99  orbit_id_other  \n",
       "0                0                0               0  \n",
       "1                0                0               0  \n",
       "2                0                0               1  \n",
       "3                0                0               0  \n",
       "4                0                0               1  \n",
       "\n",
       "[5 rows x 242 columns]"
      ]
     },
     "execution_count": 22,
     "metadata": {},
     "output_type": "execute_result"
    }
   ],
   "source": [
    "asteroid_df1.head()"
   ]
  },
  {
   "cell_type": "code",
   "execution_count": 23,
   "id": "60409586",
   "metadata": {},
   "outputs": [],
   "source": [
    "outputfile = 'asteroid_processed.csv'\n",
    "asteroid_df1.to_csv(outputfile, index=False)"
   ]
  },
  {
   "cell_type": "markdown",
   "id": "b9f8b750",
   "metadata": {},
   "source": [
    "**3. DIVIDIR LOS DATOS**"
   ]
  },
  {
   "cell_type": "markdown",
   "id": "27f4c145",
   "metadata": {},
   "source": [
    "Antes de preparar nuestros modelos de clasificiación necesitamos dividir nuestros datos en los sets de entrenamiento y prueba. Como nuestro dataframe presenta datos muy sesgados para nuestra variable objetivo, vamos a utilizar la función StratifiedShuffleSplit para mantener la misma proporción de clases."
   ]
  },
  {
   "cell_type": "code",
   "execution_count": 24,
   "id": "d4a9dca2",
   "metadata": {},
   "outputs": [],
   "source": [
    "path = 'C:/Users/NITROPC/Desktop/DATA SCIENCE/CERTIFICACION MACHINE LEARNING/06 - PROYECTO/asteroid_processed.csv'\n",
    "\n",
    "asteroid_processed = pd.read_csv(path, sep = ',')"
   ]
  },
  {
   "cell_type": "code",
   "execution_count": 25,
   "id": "ca45b740",
   "metadata": {},
   "outputs": [],
   "source": [
    "feature_cols = list(asteroid_processed.columns)\n",
    "feature_cols.remove('pha')"
   ]
  },
  {
   "cell_type": "code",
   "execution_count": 26,
   "id": "bde0ecad",
   "metadata": {},
   "outputs": [],
   "source": [
    "X_data = asteroid_processed.drop(['spkid', 'pha'], axis = 1)\n",
    "y_data = asteroid_processed['pha']"
   ]
  },
  {
   "cell_type": "code",
   "execution_count": 27,
   "id": "ec63ac76",
   "metadata": {},
   "outputs": [],
   "source": [
    "X_train, X_test, y_train, y_test = train_test_split(X_data, y_data, test_size = 0.3, random_state = 1501)\n",
    "\n"
   ]
  },
  {
   "cell_type": "code",
   "execution_count": 28,
   "id": "51baf84d",
   "metadata": {},
   "outputs": [
    {
     "data": {
      "text/plain": [
       "(279701, 240)"
      ]
     },
     "execution_count": 28,
     "metadata": {},
     "output_type": "execute_result"
    }
   ],
   "source": [
    "X_test.shape"
   ]
  },
  {
   "cell_type": "code",
   "execution_count": 29,
   "id": "1e3106a1",
   "metadata": {},
   "outputs": [
    {
     "data": {
      "text/plain": [
       "(279701,)"
      ]
     },
     "execution_count": 29,
     "metadata": {},
     "output_type": "execute_result"
    }
   ],
   "source": [
    "y_test.shape"
   ]
  },
  {
   "cell_type": "code",
   "execution_count": 30,
   "id": "98ddb8cd",
   "metadata": {},
   "outputs": [
    {
     "data": {
      "text/plain": [
       "(652634, 240)"
      ]
     },
     "execution_count": 30,
     "metadata": {},
     "output_type": "execute_result"
    }
   ],
   "source": [
    "X_train.shape"
   ]
  },
  {
   "cell_type": "code",
   "execution_count": 31,
   "id": "42fbfc73",
   "metadata": {},
   "outputs": [
    {
     "data": {
      "text/plain": [
       "(652634,)"
      ]
     },
     "execution_count": 31,
     "metadata": {},
     "output_type": "execute_result"
    }
   ],
   "source": [
    "y_train.shape"
   ]
  },
  {
   "cell_type": "markdown",
   "id": "385d2e36",
   "metadata": {},
   "source": [
    "Dado que nuestros datos presentan un sesgo muy fuerte hacia el No en la variable 'pha' necesitamos que nuestro modelo no sobremuestre la clase positiva. Utilizaremos para ello la libreria SMOTE."
   ]
  },
  {
   "cell_type": "code",
   "execution_count": 32,
   "id": "10b9e98f",
   "metadata": {},
   "outputs": [],
   "source": [
    "from imblearn.over_sampling import SMOTE\n",
    "\n",
    "smtn = SMOTE(random_state = 12)\n",
    "\n",
    "X_train_res, y_train_res = smtn.fit_resample(X_train, y_train)"
   ]
  },
  {
   "cell_type": "code",
   "execution_count": 33,
   "id": "5f555473",
   "metadata": {},
   "outputs": [
    {
     "name": "stdout",
     "output_type": "stream",
     "text": [
      "Before OverSampling, counts of label 'N': 651221\n",
      "Before OverSampling, counts of label 'Y': 1413 \n",
      "\n",
      "After OverSampling, counts of label 'N': 651221\n",
      "After OverSampling, counts of label 'Y': 651221\n"
     ]
    }
   ],
   "source": [
    "print(\"Before OverSampling, counts of label 'N': {}\".format(sum(y_train == 0))) \n",
    "print(\"Before OverSampling, counts of label 'Y': {} \\n\".format(sum(y_train == 1))) \n",
    "\n",
    "print(\"After OverSampling, counts of label 'N': {}\".format(sum(y_train_res == 0))) \n",
    "print(\"After OverSampling, counts of label 'Y': {}\".format(sum(y_train_res == 1))) "
   ]
  },
  {
   "cell_type": "markdown",
   "id": "7aa2abcc",
   "metadata": {},
   "source": [
    "**4. REGRESIÓN LOGISTICA**\n",
    "\n",
    "Vamos a comenzar nuestros modelos con el modelado por regresión logística.\n"
   ]
  },
  {
   "cell_type": "code",
   "execution_count": 34,
   "id": "cbd5df08",
   "metadata": {},
   "outputs": [],
   "source": [
    "#creamos el dataframe para nuestras métricas\n",
    "metrics = pd.DataFrame()"
   ]
  },
  {
   "cell_type": "code",
   "execution_count": 35,
   "id": "8b85e44e",
   "metadata": {},
   "outputs": [],
   "source": [
    "#REgresión logística estandar\n",
    "lr = LogisticRegression().fit(X_train_res, y_train_res)\n",
    "y_pred_lr = lr.predict(X_test)\n"
   ]
  },
  {
   "cell_type": "markdown",
   "id": "f69291ec",
   "metadata": {},
   "source": [
    "Para el modelo vamos a mostrar las métricas asociadas y la matriz de confusión."
   ]
  },
  {
   "cell_type": "code",
   "execution_count": 36,
   "id": "1243919b",
   "metadata": {},
   "outputs": [
    {
     "data": {
      "text/html": [
       "<div>\n",
       "<style scoped>\n",
       "    .dataframe tbody tr th:only-of-type {\n",
       "        vertical-align: middle;\n",
       "    }\n",
       "\n",
       "    .dataframe tbody tr th {\n",
       "        vertical-align: top;\n",
       "    }\n",
       "\n",
       "    .dataframe thead th {\n",
       "        text-align: right;\n",
       "    }\n",
       "</style>\n",
       "<table border=\"1\" class=\"dataframe\">\n",
       "  <thead>\n",
       "    <tr style=\"text-align: right;\">\n",
       "      <th></th>\n",
       "      <th>0</th>\n",
       "      <th>1</th>\n",
       "    </tr>\n",
       "  </thead>\n",
       "  <tbody>\n",
       "    <tr>\n",
       "      <th>precision</th>\n",
       "      <td>0.999931</td>\n",
       "      <td>0.208279</td>\n",
       "    </tr>\n",
       "    <tr>\n",
       "      <th>recall</th>\n",
       "      <td>0.991363</td>\n",
       "      <td>0.970904</td>\n",
       "    </tr>\n",
       "    <tr>\n",
       "      <th>f1-score</th>\n",
       "      <td>0.995629</td>\n",
       "      <td>0.342981</td>\n",
       "    </tr>\n",
       "  </tbody>\n",
       "</table>\n",
       "</div>"
      ],
      "text/plain": [
       "                  0         1\n",
       "precision  0.999931  0.208279\n",
       "recall     0.991363  0.970904\n",
       "f1-score   0.995629  0.342981"
      ]
     },
     "execution_count": 36,
     "metadata": {},
     "output_type": "execute_result"
    }
   ],
   "source": [
    "precision_lr, recall_lr = (round(float(x),2) for x in list(score(y_test,\n",
    "                                                                    y_pred_lr,\n",
    "                                                                    average='weighted'))[:-2])\n",
    "# adding lr stats to metrics DataFrame\n",
    "lr_stats = pd.Series({'precision':precision_lr,\n",
    "                      'recall':recall_lr,\n",
    "                      'accuracy':round(accuracy_score(y_test, y_pred_lr), 2),\n",
    "                      'f1score':round(f1_score(y_test, y_pred_lr), 2),\n",
    "                      'auc': round(roc_auc_score(y_test, y_pred_lr),2)},\n",
    "                     name='Logistic Regression')\n",
    "# Report outcomes\n",
    "pd.DataFrame(classification_report(y_test, y_pred_lr, output_dict=True)).iloc[:3,:2]"
   ]
  },
  {
   "cell_type": "code",
   "execution_count": 37,
   "id": "a0fc1522",
   "metadata": {},
   "outputs": [
    {
     "data": {
      "text/plain": [
       "precision    1.00\n",
       "recall       0.99\n",
       "accuracy     0.99\n",
       "f1score      0.34\n",
       "auc          0.98\n",
       "Name: Logistic Regression, dtype: float64"
      ]
     },
     "execution_count": 37,
     "metadata": {},
     "output_type": "execute_result"
    }
   ],
   "source": [
    "lr_stats"
   ]
  },
  {
   "cell_type": "code",
   "execution_count": 38,
   "id": "d6cf6a16",
   "metadata": {},
   "outputs": [
    {
     "data": {
      "text/plain": [
       "Text(0.5, 4.5, 'Ground Truth')"
      ]
     },
     "execution_count": 38,
     "metadata": {},
     "output_type": "execute_result"
    },
    {
     "data": {
      "image/png": "[encoded data removed]",
      "text/plain": [
       "<Figure size 432x288 with 2 Axes>"
      ]
     },
     "metadata": {
      "needs_background": "light"
     },
     "output_type": "display_data"
    }
   ],
   "source": [
    "sns.set_context('talk')\n",
    "cm = confusion_matrix(y_test, y_pred_lr)\n",
    "ax = sns.heatmap(cm, annot=True, fmt='d', cmap='summer')  \n",
    "\n",
    "\n",
    "ax.set_ylabel('Prediction', fontsize=20)\n",
    "ax.set_xlabel('Ground Truth', fontsize=20)"
   ]
  },
  {
   "cell_type": "markdown",
   "id": "71ab8366",
   "metadata": {},
   "source": [
    "**5. RANDOM FOREST**\n",
    "\n",
    "Nuestro siguiente modelo será Random Forest. Este modelo elimina parte de la posibilidad de sobreajuste."
   ]
  },
  {
   "cell_type": "markdown",
   "id": "1d901a0f",
   "metadata": {},
   "source": [
    "Podríamos analizar el número de árboles iterando entre varios valores y posteriormente graficar el error para conocer con qué valor se estabiliza el error:\n",
    "\n",
    "    rf = RandomForestClassifier(oob_score = True, warm_start = True, n_jobs = -1, random_state = 1551)\n",
    "\n",
    "    oob_list = list()\n",
    "\n",
    "    for n_trees in [15, 20, 30, 40, 50, 100, 150, 200, 300, 400]:\n",
    "    \n",
    "        rf.set_params(n_estimators = n_trees)\n",
    "        rf.fit(X_train_res, y_train_res)\n",
    "    \n",
    "        oob_error = 1 - rf.oob_score_\n",
    "        oob_list.append(pd.Series({'n_trees' : n_trees, 'oob' : oob_error}))\n",
    "    \n",
    "    rf_oob_df = pd.concat(oob_list, axis = 1).T.set_index('n_trees')\n",
    "\n",
    "    sns.set_context('talk')\n",
    "    sns.set_style('white')\n",
    "\n",
    "    ax = rf_oob_df.plot(legend=False, marker='o', color=\"green\", figsize=(14, 7), linewidth=4)\n",
    "    ax.set(ylabel='out-of-bag error');\n",
    "    \n",
    "Sin embargo, para ahorrar tiempo de procesado, vamos a aplicar un valor de 150 a n_estimators."
   ]
  },
  {
   "cell_type": "code",
   "execution_count": 39,
   "id": "3642571b",
   "metadata": {},
   "outputs": [],
   "source": [
    "rf = RandomForestClassifier(n_estimators = 150, oob_score = True, warm_start = True, n_jobs = -1, random_state = 1551)"
   ]
  },
  {
   "cell_type": "code",
   "execution_count": 40,
   "id": "462374cf",
   "metadata": {},
   "outputs": [
    {
     "data": {
      "text/plain": [
       "RandomForestClassifier(n_estimators=150, n_jobs=-1, oob_score=True,\n",
       "                       random_state=1551, warm_start=True)"
      ]
     },
     "execution_count": 40,
     "metadata": {},
     "output_type": "execute_result"
    }
   ],
   "source": [
    "rf.fit(X_train_res, y_train_res)"
   ]
  },
  {
   "cell_type": "code",
   "execution_count": 41,
   "id": "053ba9fd",
   "metadata": {},
   "outputs": [],
   "source": [
    "y_pred_rf = rf.predict(X_test)"
   ]
  },
  {
   "cell_type": "code",
   "execution_count": 42,
   "id": "b37139a4",
   "metadata": {},
   "outputs": [
    {
     "data": {
      "text/html": [
       "<div>\n",
       "<style scoped>\n",
       "    .dataframe tbody tr th:only-of-type {\n",
       "        vertical-align: middle;\n",
       "    }\n",
       "\n",
       "    .dataframe tbody tr th {\n",
       "        vertical-align: top;\n",
       "    }\n",
       "\n",
       "    .dataframe thead th {\n",
       "        text-align: right;\n",
       "    }\n",
       "</style>\n",
       "<table border=\"1\" class=\"dataframe\">\n",
       "  <thead>\n",
       "    <tr style=\"text-align: right;\">\n",
       "      <th></th>\n",
       "      <th>0</th>\n",
       "      <th>1</th>\n",
       "    </tr>\n",
       "  </thead>\n",
       "  <tbody>\n",
       "    <tr>\n",
       "      <th>precision</th>\n",
       "      <td>0.999968</td>\n",
       "      <td>0.947059</td>\n",
       "    </tr>\n",
       "    <tr>\n",
       "      <th>recall</th>\n",
       "      <td>0.999871</td>\n",
       "      <td>0.986217</td>\n",
       "    </tr>\n",
       "    <tr>\n",
       "      <th>f1-score</th>\n",
       "      <td>0.999919</td>\n",
       "      <td>0.966242</td>\n",
       "    </tr>\n",
       "  </tbody>\n",
       "</table>\n",
       "</div>"
      ],
      "text/plain": [
       "                  0         1\n",
       "precision  0.999968  0.947059\n",
       "recall     0.999871  0.986217\n",
       "f1-score   0.999919  0.966242"
      ]
     },
     "execution_count": 42,
     "metadata": {},
     "output_type": "execute_result"
    }
   ],
   "source": [
    "precision_rf, recall_rf = (round(float(x),2) for x in list(score(y_test,\n",
    "                                                                    y_pred_rf,\n",
    "                                                                    average='weighted'))[:-2])\n",
    "rf_stats = pd.Series({'precision':precision_rf,\n",
    "                      'recall':recall_rf,\n",
    "                      'accuracy':round(accuracy_score(y_test, y_pred_rf), 2),\n",
    "                      'f1score':round(f1_score(y_test, y_pred_rf), 2),\n",
    "                      'auc': round(roc_auc_score(y_test, y_pred_rf),2)}, name='Random Forest')\n",
    "\n",
    "pd.DataFrame(classification_report(y_test, y_pred_rf, output_dict=True)).iloc[:3,:2]"
   ]
  },
  {
   "cell_type": "code",
   "execution_count": 43,
   "id": "d9172026",
   "metadata": {},
   "outputs": [
    {
     "data": {
      "text/plain": [
       "precision    1.00\n",
       "recall       1.00\n",
       "accuracy     1.00\n",
       "f1score      0.97\n",
       "auc          0.99\n",
       "Name: Random Forest, dtype: float64"
      ]
     },
     "execution_count": 43,
     "metadata": {},
     "output_type": "execute_result"
    }
   ],
   "source": [
    "rf_stats"
   ]
  },
  {
   "cell_type": "code",
   "execution_count": 44,
   "id": "beb59d51",
   "metadata": {
    "scrolled": true
   },
   "outputs": [
    {
     "data": {
      "text/plain": [
       "Text(0.5, 4.5, 'Ground Truth')"
      ]
     },
     "execution_count": 44,
     "metadata": {},
     "output_type": "execute_result"
    },
    {
     "data": {
      "image/png": "[encoded data removed]",
      "text/plain": [
       "<Figure size 432x288 with 2 Axes>"
      ]
     },
     "metadata": {
      "needs_background": "light"
     },
     "output_type": "display_data"
    }
   ],
   "source": [
    "sns.set_context('talk')\n",
    "cm_rf = confusion_matrix(y_test, y_pred_rf)\n",
    "ax = sns.heatmap(cm_rf, annot=True, fmt='d', cmap='summer')  \n",
    "\n",
    "\n",
    "ax.set_ylabel('Prediction', fontsize=20)\n",
    "ax.set_xlabel('Ground Truth', fontsize=20)"
   ]
  },
  {
   "cell_type": "markdown",
   "id": "e5bd383e",
   "metadata": {},
   "source": [
    "**6.POTENCIADOR DE GRADIENTE**\n",
    "\n",
    "Por último vamos a aplicar un modelo de potenciador de gradiente. Esta técnica combina los principios de la potenciación de gradiente con la aletoriedad de los árboles de decisión. "
   ]
  },
  {
   "cell_type": "code",
   "execution_count": 48,
   "id": "9bbcb1c4",
   "metadata": {},
   "outputs": [],
   "source": [
    "from sklearn.ensemble import GradientBoostingClassifier\n"
   ]
  },
  {
   "cell_type": "markdown",
   "id": "fdd46997",
   "metadata": {},
   "source": [
    "Al igual que en el modelo Random Forest podríamos analizar el número de árboles iterando entre varios valores y posteriormente graficar el error para conocer con qué valor se estabiliza:\n",
    "    \n",
    "    error_list = list()\n",
    "\n",
    "    tree_list = [15, 25, 50, 100, 200, 400]\n",
    "    for n_trees in tree_list:\n",
    "    \n",
    "        GBC = GradientBoostingClassifier(n_estimators=n_trees, random_state=42)\n",
    "\n",
    "        print(f'Fitting model with {n_trees} trees')\n",
    "        GBC.fit(X_train_res.values, y_train_res.values)\n",
    "        y_pred = GBC.predict(X_test)\n",
    "\n",
    "        error = 1.0 - accuracy_score(y_test, y_pred)\n",
    "        Store it\n",
    "        error_list.append(pd.Series({'n_trees': n_trees, 'error': error}))\n",
    "\n",
    "    error_df = pd.concat(error_list, axis=1).T.set_index('n_trees')\n",
    "\n",
    "    error_df\n",
    "  \n",
    "Para ahorrar tiempo de procesado, vamos a aplicar un valor de 150 a n_estimators."
   ]
  },
  {
   "cell_type": "code",
   "execution_count": 49,
   "id": "84d668c9",
   "metadata": {},
   "outputs": [],
   "source": [
    "gbc = GradientBoostingClassifier(n_estimators = 400, learning_rate = 0.1, subsample = 0.5, max_features = 4, warm_start = False)"
   ]
  },
  {
   "cell_type": "code",
   "execution_count": 50,
   "id": "79056d7c",
   "metadata": {},
   "outputs": [
    {
     "data": {
      "text/plain": [
       "GradientBoostingClassifier(max_features=4, n_estimators=400, subsample=0.5)"
      ]
     },
     "execution_count": 50,
     "metadata": {},
     "output_type": "execute_result"
    }
   ],
   "source": [
    "gbc.fit(X_train_res, y_train_res)"
   ]
  },
  {
   "cell_type": "code",
   "execution_count": 51,
   "id": "5e28779e",
   "metadata": {},
   "outputs": [],
   "source": [
    "y_pred_gbc = gbc.predict(X_test)"
   ]
  },
  {
   "cell_type": "code",
   "execution_count": 57,
   "id": "8f55bb9b",
   "metadata": {},
   "outputs": [
    {
     "data": {
      "text/html": [
       "<div>\n",
       "<style scoped>\n",
       "    .dataframe tbody tr th:only-of-type {\n",
       "        vertical-align: middle;\n",
       "    }\n",
       "\n",
       "    .dataframe tbody tr th {\n",
       "        vertical-align: top;\n",
       "    }\n",
       "\n",
       "    .dataframe thead th {\n",
       "        text-align: right;\n",
       "    }\n",
       "</style>\n",
       "<table border=\"1\" class=\"dataframe\">\n",
       "  <thead>\n",
       "    <tr style=\"text-align: right;\">\n",
       "      <th></th>\n",
       "      <th>0</th>\n",
       "      <th>1</th>\n",
       "    </tr>\n",
       "  </thead>\n",
       "  <tbody>\n",
       "    <tr>\n",
       "      <th>precision</th>\n",
       "      <td>0.999989</td>\n",
       "      <td>0.705755</td>\n",
       "    </tr>\n",
       "    <tr>\n",
       "      <th>recall</th>\n",
       "      <td>0.999029</td>\n",
       "      <td>0.995406</td>\n",
       "    </tr>\n",
       "    <tr>\n",
       "      <th>f1-score</th>\n",
       "      <td>0.999509</td>\n",
       "      <td>0.825921</td>\n",
       "    </tr>\n",
       "  </tbody>\n",
       "</table>\n",
       "</div>"
      ],
      "text/plain": [
       "                  0         1\n",
       "precision  0.999989  0.705755\n",
       "recall     0.999029  0.995406\n",
       "f1-score   0.999509  0.825921"
      ]
     },
     "execution_count": 57,
     "metadata": {},
     "output_type": "execute_result"
    }
   ],
   "source": [
    "precision_gbc, recall_gbc = (round(float(x),2) for x in list(score(y_test,\n",
    "                                                                    y_pred_rf,\n",
    "                                                                    average='weighted'))[:-2])\n",
    "gbc_stats = pd.Series({'precision':precision_gbc,\n",
    "                      'recall':recall_rf,\n",
    "                      'accuracy':round(accuracy_score(y_test, y_pred_gbc), 2),\n",
    "                      'f1score':round(f1_score(y_test, y_pred_gbc), 2),\n",
    "                      'auc': round(roc_auc_score(y_test, y_pred_gbc),2)}, name='Random Forest')\n",
    "\n",
    "pd.DataFrame(classification_report(y_test, y_pred_gbc, output_dict=True)).iloc[:3,:2]"
   ]
  },
  {
   "cell_type": "code",
   "execution_count": 58,
   "id": "e0efe796",
   "metadata": {},
   "outputs": [
    {
     "data": {
      "text/plain": [
       "precision    1.00\n",
       "recall       1.00\n",
       "accuracy     1.00\n",
       "f1score      0.83\n",
       "auc          1.00\n",
       "Name: Random Forest, dtype: float64"
      ]
     },
     "execution_count": 58,
     "metadata": {},
     "output_type": "execute_result"
    }
   ],
   "source": [
    "gbc_stats"
   ]
  },
  {
   "cell_type": "code",
   "execution_count": 55,
   "id": "930ff9e9",
   "metadata": {},
   "outputs": [
    {
     "data": {
      "text/plain": [
       "Text(0.5, 4.5, 'Ground Truth')"
      ]
     },
     "execution_count": 55,
     "metadata": {},
     "output_type": "execute_result"
    },
    {
     "data": {
      "image/png": "[encoded data removed]",
      "text/plain": [
       "<Figure size 432x288 with 2 Axes>"
      ]
     },
     "metadata": {
      "needs_background": "light"
     },
     "output_type": "display_data"
    }
   ],
   "source": [
    "sns.set_context('talk')\n",
    "cm_rf = confusion_matrix(y_test, y_pred_gbc)\n",
    "ax = sns.heatmap(cm_rf, annot=True, fmt='d', cmap='summer')  \n",
    "\n",
    "\n",
    "ax.set_ylabel('Prediction', fontsize=20)\n",
    "ax.set_xlabel('Ground Truth', fontsize=20)"
   ]
  },
  {
   "cell_type": "markdown",
   "id": "4ff13027",
   "metadata": {},
   "source": [
    "**7. CONCLUSIONES**\n",
    "\n",
    "A continuación se resumen las métricas para cada uno de los modelos aplicados:"
   ]
  },
  {
   "cell_type": "code",
   "execution_count": 59,
   "id": "15e51afb",
   "metadata": {},
   "outputs": [
    {
     "data": {
      "text/html": [
       "<div>\n",
       "<style scoped>\n",
       "    .dataframe tbody tr th:only-of-type {\n",
       "        vertical-align: middle;\n",
       "    }\n",
       "\n",
       "    .dataframe tbody tr th {\n",
       "        vertical-align: top;\n",
       "    }\n",
       "\n",
       "    .dataframe thead th {\n",
       "        text-align: right;\n",
       "    }\n",
       "</style>\n",
       "<table border=\"1\" class=\"dataframe\">\n",
       "  <thead>\n",
       "    <tr style=\"text-align: right;\">\n",
       "      <th></th>\n",
       "      <th>precision</th>\n",
       "      <th>recall</th>\n",
       "      <th>accuracy</th>\n",
       "      <th>f1score</th>\n",
       "      <th>auc</th>\n",
       "    </tr>\n",
       "  </thead>\n",
       "  <tbody>\n",
       "    <tr>\n",
       "      <th>Logistic Regression</th>\n",
       "      <td>1.0</td>\n",
       "      <td>0.99</td>\n",
       "      <td>0.99</td>\n",
       "      <td>0.34</td>\n",
       "      <td>0.98</td>\n",
       "    </tr>\n",
       "    <tr>\n",
       "      <th>Random Forest</th>\n",
       "      <td>1.0</td>\n",
       "      <td>1.00</td>\n",
       "      <td>1.00</td>\n",
       "      <td>0.83</td>\n",
       "      <td>1.00</td>\n",
       "    </tr>\n",
       "    <tr>\n",
       "      <th>Random Forest</th>\n",
       "      <td>1.0</td>\n",
       "      <td>1.00</td>\n",
       "      <td>1.00</td>\n",
       "      <td>0.83</td>\n",
       "      <td>1.00</td>\n",
       "    </tr>\n",
       "  </tbody>\n",
       "</table>\n",
       "</div>"
      ],
      "text/plain": [
       "                     precision  recall  accuracy  f1score   auc\n",
       "Logistic Regression        1.0    0.99      0.99     0.34  0.98\n",
       "Random Forest              1.0    1.00      1.00     0.83  1.00\n",
       "Random Forest              1.0    1.00      1.00     0.83  1.00"
      ]
     },
     "execution_count": 59,
     "metadata": {},
     "output_type": "execute_result"
    }
   ],
   "source": [
    "metrics.append([lr_stats, rf_stats, gbc_stats])"
   ]
  },
  {
   "cell_type": "markdown",
   "id": "6b65cd0e",
   "metadata": {},
   "source": [
    "Todos los modelos presentan unos valores similares. Sin embargo, dada la naturaleza sesgada de los datos, se hace necesario el uso de algoritmos de potenciamiento y validadción cruzada, que suponen un mayor tiempo de procesado."
   ]
  }
 ],
 "metadata": {
  "kernelspec": {
   "display_name": "Python 3",
   "language": "python",
   "name": "python3"
  },
  "language_info": {
   "codemirror_mode": {
    "name": "ipython",
    "version": 3
   },
   "file_extension": ".py",
   "mimetype": "text/x-python",
   "name": "python",
   "nbconvert_exporter": "python",
   "pygments_lexer": "ipython3",
   "version": "3.8.8"
  }
 },
 "nbformat": 4,
 "nbformat_minor": 5
}
